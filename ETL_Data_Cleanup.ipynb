{
 "cells": [
  {
   "cell_type": "code",
   "execution_count": 1,
   "metadata": {},
   "outputs": [],
   "source": [
    "import pandas as pd \n",
    "import csv  \n",
    "import requests\n",
    "import numpy as np\n",
    "import os\n",
    "from bs4 import BeautifulSoup\n",
    "from selenium import webdriver\n",
    "import time\n",
    "from datetime import datetime, timedelta\n",
    "from pytz import timezone\n",
    "import pytz"
   ]
  },
  {
   "cell_type": "code",
   "execution_count": 2,
   "metadata": {},
   "outputs": [],
   "source": [
    "#A list of all 50 states plus the District of Columbia saved in a \n",
    "#variable named us_states_list\n",
    "\n",
    "us_states_list = [\n",
    "    'Alabama',\n",
    "    'Alaska',\n",
    "    'Arizona',\n",
    "    'Arkansas',\n",
    "    'California',\n",
    "    'Colorado',\n",
    "    'Connecticut',\n",
    "    'Delaware',\n",
    "    'District of Columbia',\n",
    "    'Florida',\n",
    "    'Georgia',\n",
    "    'Hawaii',\n",
    "    'Idaho',\n",
    "    'Illinois',\n",
    "    'Indiana',\n",
    "    'Iowa',\n",
    "    'Kansas',\n",
    "    'Kentucky',\n",
    "    'Louisiana',\n",
    "    'Maine',\n",
    "    'Maryland',\n",
    "    'Massachusetts',\n",
    "    'Michigan',\n",
    "    'Minnesota',\n",
    "    'Mississippi',\n",
    "    'Missouri',\n",
    "    'Montana',\n",
    "    'Nebraska',\n",
    "    'Nevada',\n",
    "    'New Hampshire',\n",
    "    'New Jersey',\n",
    "    'New Mexico',\n",
    "    'New York',\n",
    "    'North Carolina',\n",
    "    'North Dakota',\n",
    "    'Ohio',\n",
    "    'Oklahoma',\n",
    "    'Oregon',\n",
    "    'Pennsylvania',\n",
    "    'Rhode Island',\n",
    "    'South Carolina',\n",
    "    'South Dakota',\n",
    "    'Tennessee',\n",
    "    'Texas',\n",
    "    'Utah',\n",
    "    'Vermont',\n",
    "    'Virginia',\n",
    "    'Washington',\n",
    "    'West Virginia',\n",
    "    'Wisconsin',\n",
    "    'Wyoming'\n",
    "]"
   ]
  },
  {
   "cell_type": "markdown",
   "metadata": {},
   "source": [
    "# Import Kaggle CSV With Cases & Deaths By State #"
   ]
  },
  {
   "cell_type": "code",
   "execution_count": 3,
   "metadata": {},
   "outputs": [
    {
     "output_type": "execute_result",
     "data": {
      "text/plain": "   UID iso2 iso3  code3  FIPS Admin2            Province_State Country_Region  \\\n0   16   AS  ASM     16  60.0    NaN            American Samoa             US   \n1  316   GU  GUM    316  66.0    NaN                      Guam             US   \n2  580   MP  MNP    580  69.0    NaN  Northern Mariana Islands             US   \n3  630   PR  PRI    630  72.0    NaN               Puerto Rico             US   \n4  850   VI  VIR    850  78.0    NaN            Virgin Islands             US   \n\n       Lat     Long_                  Combined_Key     Date  Confirmed  Deaths  \n0 -14.2710 -170.1320            American Samoa, US  1/22/20          0       0  \n1  13.4443  144.7937                      Guam, US  1/22/20          0       0  \n2  15.0979  145.6739  Northern Mariana Islands, US  1/22/20          0       0  \n3  18.2208  -66.5901               Puerto Rico, US  1/22/20          0       0  \n4  18.3358  -64.8963            Virgin Islands, US  1/22/20          0       0  ",
      "text/html": "<div>\n<style scoped>\n    .dataframe tbody tr th:only-of-type {\n        vertical-align: middle;\n    }\n\n    .dataframe tbody tr th {\n        vertical-align: top;\n    }\n\n    .dataframe thead th {\n        text-align: right;\n    }\n</style>\n<table border=\"1\" class=\"dataframe\">\n  <thead>\n    <tr style=\"text-align: right;\">\n      <th></th>\n      <th>UID</th>\n      <th>iso2</th>\n      <th>iso3</th>\n      <th>code3</th>\n      <th>FIPS</th>\n      <th>Admin2</th>\n      <th>Province_State</th>\n      <th>Country_Region</th>\n      <th>Lat</th>\n      <th>Long_</th>\n      <th>Combined_Key</th>\n      <th>Date</th>\n      <th>Confirmed</th>\n      <th>Deaths</th>\n    </tr>\n  </thead>\n  <tbody>\n    <tr>\n      <th>0</th>\n      <td>16</td>\n      <td>AS</td>\n      <td>ASM</td>\n      <td>16</td>\n      <td>60.0</td>\n      <td>NaN</td>\n      <td>American Samoa</td>\n      <td>US</td>\n      <td>-14.2710</td>\n      <td>-170.1320</td>\n      <td>American Samoa, US</td>\n      <td>1/22/20</td>\n      <td>0</td>\n      <td>0</td>\n    </tr>\n    <tr>\n      <th>1</th>\n      <td>316</td>\n      <td>GU</td>\n      <td>GUM</td>\n      <td>316</td>\n      <td>66.0</td>\n      <td>NaN</td>\n      <td>Guam</td>\n      <td>US</td>\n      <td>13.4443</td>\n      <td>144.7937</td>\n      <td>Guam, US</td>\n      <td>1/22/20</td>\n      <td>0</td>\n      <td>0</td>\n    </tr>\n    <tr>\n      <th>2</th>\n      <td>580</td>\n      <td>MP</td>\n      <td>MNP</td>\n      <td>580</td>\n      <td>69.0</td>\n      <td>NaN</td>\n      <td>Northern Mariana Islands</td>\n      <td>US</td>\n      <td>15.0979</td>\n      <td>145.6739</td>\n      <td>Northern Mariana Islands, US</td>\n      <td>1/22/20</td>\n      <td>0</td>\n      <td>0</td>\n    </tr>\n    <tr>\n      <th>3</th>\n      <td>630</td>\n      <td>PR</td>\n      <td>PRI</td>\n      <td>630</td>\n      <td>72.0</td>\n      <td>NaN</td>\n      <td>Puerto Rico</td>\n      <td>US</td>\n      <td>18.2208</td>\n      <td>-66.5901</td>\n      <td>Puerto Rico, US</td>\n      <td>1/22/20</td>\n      <td>0</td>\n      <td>0</td>\n    </tr>\n    <tr>\n      <th>4</th>\n      <td>850</td>\n      <td>VI</td>\n      <td>VIR</td>\n      <td>850</td>\n      <td>78.0</td>\n      <td>NaN</td>\n      <td>Virgin Islands</td>\n      <td>US</td>\n      <td>18.3358</td>\n      <td>-64.8963</td>\n      <td>Virgin Islands, US</td>\n      <td>1/22/20</td>\n      <td>0</td>\n      <td>0</td>\n    </tr>\n  </tbody>\n</table>\n</div>"
     },
     "metadata": {},
     "execution_count": 3
    }
   ],
   "source": [
    "# Import Kaggle csv file with total cases and deaths by US state and county\n",
    "# Data was downloaded from https://www.kaggle.com/imdevskp/corona-virus-report#usa_county_wise.csv\n",
    "file = \"Raw_Data/usa_county_wise.csv\"\n",
    "kaggle_df = pd.read_csv(file)\n",
    "kaggle_df.head()"
   ]
  },
  {
   "cell_type": "code",
   "execution_count": 4,
   "metadata": {},
   "outputs": [],
   "source": [
    "# Only keep rows for US states (i.e. remove Guam, Virgin Islands, etc.)\n",
    "kaggle_us = kaggle_df.loc[kaggle_df[\"iso2\"] == \"US\",:]"
   ]
  },
  {
   "cell_type": "code",
   "execution_count": 5,
   "metadata": {},
   "outputs": [],
   "source": [
    "# Remove columns not needed (UID, iso2(country/territory), iso3(country/territory), & code3)\n",
    "kaggle_rem_cols = kaggle_us[[\"FIPS\", \"Admin2\",\"Province_State\", \"Lat\", \"Long_\", \"Combined_Key\", \"Date\", \"Confirmed\", \"Deaths\"]]"
   ]
  },
  {
   "cell_type": "code",
   "execution_count": 6,
   "metadata": {},
   "outputs": [
    {
     "output_type": "execute_result",
     "data": {
      "text/plain": "           FIPS      County           State        Lat         Lng  \\\n141418  28095.0      Monroe     Mississippi  33.892368  -88.480844   \n109273  36051.0  Livingston        New York  42.725963  -77.779662   \n42535    6059.0      Orange      California  33.701475 -117.764600   \n53504   28037.0    Franklin     Mississippi  31.477866  -90.896730   \n6938    13075.0        Cook         Georgia  31.160685  -83.429472   \n61340   48445.0       Terry           Texas  33.174028 -102.335452   \n200643  39081.0   Jefferson            Ohio  40.386141  -80.762595   \n237888   8047.0      Gilpin        Colorado  39.856465 -105.525260   \n16201   80036.0   Out of NY        New York   0.000000    0.000000   \n141901  37083.0     Halifax  North Carolina  36.256693  -77.655611   \n\n                       Combined_Key     Date  Confirmed  Deaths  \n141418      Monroe, Mississippi, US   3/5/20          0       0  \n109273     Livingston, New York, US  2/24/20          0       0  \n42535        Orange, California, US   2/4/20          1       0  \n53504     Franklin, Mississippi, US   2/7/20          0       0  \n6938              Cook, Georgia, US  1/24/20          0       0  \n61340              Terry, Texas, US   2/9/20          0       0  \n200643          Jefferson, Ohio, US  3/23/20          0       0  \n237888         Gilpin, Colorado, US   4/4/20          0       0  \n16201       Out of NY, New York, US  1/26/20          0       0  \n141901  Halifax, North Carolina, US   3/5/20          0       0  ",
      "text/html": "<div>\n<style scoped>\n    .dataframe tbody tr th:only-of-type {\n        vertical-align: middle;\n    }\n\n    .dataframe tbody tr th {\n        vertical-align: top;\n    }\n\n    .dataframe thead th {\n        text-align: right;\n    }\n</style>\n<table border=\"1\" class=\"dataframe\">\n  <thead>\n    <tr style=\"text-align: right;\">\n      <th></th>\n      <th>FIPS</th>\n      <th>County</th>\n      <th>State</th>\n      <th>Lat</th>\n      <th>Lng</th>\n      <th>Combined_Key</th>\n      <th>Date</th>\n      <th>Confirmed</th>\n      <th>Deaths</th>\n    </tr>\n  </thead>\n  <tbody>\n    <tr>\n      <th>141418</th>\n      <td>28095.0</td>\n      <td>Monroe</td>\n      <td>Mississippi</td>\n      <td>33.892368</td>\n      <td>-88.480844</td>\n      <td>Monroe, Mississippi, US</td>\n      <td>3/5/20</td>\n      <td>0</td>\n      <td>0</td>\n    </tr>\n    <tr>\n      <th>109273</th>\n      <td>36051.0</td>\n      <td>Livingston</td>\n      <td>New York</td>\n      <td>42.725963</td>\n      <td>-77.779662</td>\n      <td>Livingston, New York, US</td>\n      <td>2/24/20</td>\n      <td>0</td>\n      <td>0</td>\n    </tr>\n    <tr>\n      <th>42535</th>\n      <td>6059.0</td>\n      <td>Orange</td>\n      <td>California</td>\n      <td>33.701475</td>\n      <td>-117.764600</td>\n      <td>Orange, California, US</td>\n      <td>2/4/20</td>\n      <td>1</td>\n      <td>0</td>\n    </tr>\n    <tr>\n      <th>53504</th>\n      <td>28037.0</td>\n      <td>Franklin</td>\n      <td>Mississippi</td>\n      <td>31.477866</td>\n      <td>-90.896730</td>\n      <td>Franklin, Mississippi, US</td>\n      <td>2/7/20</td>\n      <td>0</td>\n      <td>0</td>\n    </tr>\n    <tr>\n      <th>6938</th>\n      <td>13075.0</td>\n      <td>Cook</td>\n      <td>Georgia</td>\n      <td>31.160685</td>\n      <td>-83.429472</td>\n      <td>Cook, Georgia, US</td>\n      <td>1/24/20</td>\n      <td>0</td>\n      <td>0</td>\n    </tr>\n    <tr>\n      <th>61340</th>\n      <td>48445.0</td>\n      <td>Terry</td>\n      <td>Texas</td>\n      <td>33.174028</td>\n      <td>-102.335452</td>\n      <td>Terry, Texas, US</td>\n      <td>2/9/20</td>\n      <td>0</td>\n      <td>0</td>\n    </tr>\n    <tr>\n      <th>200643</th>\n      <td>39081.0</td>\n      <td>Jefferson</td>\n      <td>Ohio</td>\n      <td>40.386141</td>\n      <td>-80.762595</td>\n      <td>Jefferson, Ohio, US</td>\n      <td>3/23/20</td>\n      <td>0</td>\n      <td>0</td>\n    </tr>\n    <tr>\n      <th>237888</th>\n      <td>8047.0</td>\n      <td>Gilpin</td>\n      <td>Colorado</td>\n      <td>39.856465</td>\n      <td>-105.525260</td>\n      <td>Gilpin, Colorado, US</td>\n      <td>4/4/20</td>\n      <td>0</td>\n      <td>0</td>\n    </tr>\n    <tr>\n      <th>16201</th>\n      <td>80036.0</td>\n      <td>Out of NY</td>\n      <td>New York</td>\n      <td>0.000000</td>\n      <td>0.000000</td>\n      <td>Out of NY, New York, US</td>\n      <td>1/26/20</td>\n      <td>0</td>\n      <td>0</td>\n    </tr>\n    <tr>\n      <th>141901</th>\n      <td>37083.0</td>\n      <td>Halifax</td>\n      <td>North Carolina</td>\n      <td>36.256693</td>\n      <td>-77.655611</td>\n      <td>Halifax, North Carolina, US</td>\n      <td>3/5/20</td>\n      <td>0</td>\n      <td>0</td>\n    </tr>\n  </tbody>\n</table>\n</div>"
     },
     "metadata": {},
     "execution_count": 6
    }
   ],
   "source": [
    "# Rename columns (Admin 2 to County, Province_State to State, Long_ to Lng)\n",
    "kaggle_renamed = kaggle_rem_cols.rename(columns={\"Admin2\":\"County\", \"Province_State\":\"State\", \"Long_\":\"Lng\"})\n",
    "kaggle_renamed.sample(10)"
   ]
  },
  {
   "cell_type": "code",
   "execution_count": 7,
   "metadata": {},
   "outputs": [
    {
     "output_type": "execute_result",
     "data": {
      "text/plain": "FIPS            285648\nCounty          285824\nState           286000\nLat             286000\nLng             286000\nCombined_Key    286000\nDate            286000\nConfirmed       286000\nDeaths          286000\ndtype: int64"
     },
     "metadata": {},
     "execution_count": 7
    }
   ],
   "source": [
    "# Check for missing values\n",
    "kaggle_renamed.count()"
   ]
  },
  {
   "cell_type": "code",
   "execution_count": 8,
   "metadata": {},
   "outputs": [
    {
     "output_type": "execute_result",
     "data": {
      "text/plain": "FIPS            285472\nCounty          285472\nState           285472\nLat             285472\nLng             285472\nCombined_Key    285472\nDate            285472\nConfirmed       285472\nDeaths          285472\ndtype: int64"
     },
     "metadata": {},
     "execution_count": 8
    }
   ],
   "source": [
    "# Drop rows with missing data\n",
    "kaggle_drop = kaggle_renamed.dropna()\n",
    "kaggle_drop.count()"
   ]
  },
  {
   "cell_type": "code",
   "execution_count": 9,
   "metadata": {},
   "outputs": [
    {
     "output_type": "execute_result",
     "data": {
      "text/plain": "FIPS            float64\nCounty           object\nState            object\nLat             float64\nLng             float64\nCombined_Key     object\nDate             object\nConfirmed         int64\nDeaths            int64\ndtype: object"
     },
     "metadata": {},
     "execution_count": 9
    }
   ],
   "source": [
    "# Check if date column date are strings or date objects\n",
    "kaggle_drop.dtypes"
   ]
  },
  {
   "cell_type": "code",
   "execution_count": 10,
   "metadata": {},
   "outputs": [],
   "source": [
    "# Change dates from strings to datetime objects\n",
    "kaggle_drop['Date'] = pd.to_datetime(kaggle_drop['Date'],format='%m/%d/%y')"
   ]
  },
  {
   "cell_type": "code",
   "execution_count": 11,
   "metadata": {},
   "outputs": [
    {
     "output_type": "execute_result",
     "data": {
      "text/plain": "FIPS                   float64\nCounty                  object\nState                   object\nLat                    float64\nLng                    float64\nCombined_Key            object\nDate            datetime64[ns]\nConfirmed                int64\nDeaths                   int64\ndtype: object"
     },
     "metadata": {},
     "execution_count": 11
    }
   ],
   "source": [
    "# Check that column type changed\n",
    "kaggle_drop.dtypes"
   ]
  },
  {
   "cell_type": "code",
   "execution_count": 12,
   "metadata": {},
   "outputs": [
    {
     "output_type": "execute_result",
     "data": {
      "text/plain": "           FIPS      County    State        Lat         Lng  \\\n286322  56027.0    Niobrara  Wyoming  43.056077 -104.475890   \n286323  56029.0        Park  Wyoming  44.521575 -109.585282   \n286324  56031.0      Platte  Wyoming  42.132991 -104.966331   \n286325  56033.0    Sheridan  Wyoming  44.790489 -106.886239   \n286326  56035.0    Sublette  Wyoming  42.765583 -109.913092   \n286327  56037.0  Sweetwater  Wyoming  41.659439 -108.882788   \n286328  56039.0       Teton  Wyoming  43.935225 -110.589080   \n286329  56041.0       Uinta  Wyoming  41.287818 -110.547578   \n286330  56043.0    Washakie  Wyoming  43.904516 -107.680187   \n286331  56045.0      Weston  Wyoming  43.839612 -104.567488   \n\n                   Combined_Key       Date  Confirmed  Deaths  \n286322    Niobrara, Wyoming, US 2020-04-18          1       0  \n286323        Park, Wyoming, US 2020-04-18          1       0  \n286324      Platte, Wyoming, US 2020-04-18          0       0  \n286325    Sheridan, Wyoming, US 2020-04-18         12       0  \n286326    Sublette, Wyoming, US 2020-04-18          1       0  \n286327  Sweetwater, Wyoming, US 2020-04-18         10       0  \n286328       Teton, Wyoming, US 2020-04-18         62       0  \n286329       Uinta, Wyoming, US 2020-04-18          6       0  \n286330    Washakie, Wyoming, US 2020-04-18          5       0  \n286331      Weston, Wyoming, US 2020-04-18          0       0  ",
      "text/html": "<div>\n<style scoped>\n    .dataframe tbody tr th:only-of-type {\n        vertical-align: middle;\n    }\n\n    .dataframe tbody tr th {\n        vertical-align: top;\n    }\n\n    .dataframe thead th {\n        text-align: right;\n    }\n</style>\n<table border=\"1\" class=\"dataframe\">\n  <thead>\n    <tr style=\"text-align: right;\">\n      <th></th>\n      <th>FIPS</th>\n      <th>County</th>\n      <th>State</th>\n      <th>Lat</th>\n      <th>Lng</th>\n      <th>Combined_Key</th>\n      <th>Date</th>\n      <th>Confirmed</th>\n      <th>Deaths</th>\n    </tr>\n  </thead>\n  <tbody>\n    <tr>\n      <th>286322</th>\n      <td>56027.0</td>\n      <td>Niobrara</td>\n      <td>Wyoming</td>\n      <td>43.056077</td>\n      <td>-104.475890</td>\n      <td>Niobrara, Wyoming, US</td>\n      <td>2020-04-18</td>\n      <td>1</td>\n      <td>0</td>\n    </tr>\n    <tr>\n      <th>286323</th>\n      <td>56029.0</td>\n      <td>Park</td>\n      <td>Wyoming</td>\n      <td>44.521575</td>\n      <td>-109.585282</td>\n      <td>Park, Wyoming, US</td>\n      <td>2020-04-18</td>\n      <td>1</td>\n      <td>0</td>\n    </tr>\n    <tr>\n      <th>286324</th>\n      <td>56031.0</td>\n      <td>Platte</td>\n      <td>Wyoming</td>\n      <td>42.132991</td>\n      <td>-104.966331</td>\n      <td>Platte, Wyoming, US</td>\n      <td>2020-04-18</td>\n      <td>0</td>\n      <td>0</td>\n    </tr>\n    <tr>\n      <th>286325</th>\n      <td>56033.0</td>\n      <td>Sheridan</td>\n      <td>Wyoming</td>\n      <td>44.790489</td>\n      <td>-106.886239</td>\n      <td>Sheridan, Wyoming, US</td>\n      <td>2020-04-18</td>\n      <td>12</td>\n      <td>0</td>\n    </tr>\n    <tr>\n      <th>286326</th>\n      <td>56035.0</td>\n      <td>Sublette</td>\n      <td>Wyoming</td>\n      <td>42.765583</td>\n      <td>-109.913092</td>\n      <td>Sublette, Wyoming, US</td>\n      <td>2020-04-18</td>\n      <td>1</td>\n      <td>0</td>\n    </tr>\n    <tr>\n      <th>286327</th>\n      <td>56037.0</td>\n      <td>Sweetwater</td>\n      <td>Wyoming</td>\n      <td>41.659439</td>\n      <td>-108.882788</td>\n      <td>Sweetwater, Wyoming, US</td>\n      <td>2020-04-18</td>\n      <td>10</td>\n      <td>0</td>\n    </tr>\n    <tr>\n      <th>286328</th>\n      <td>56039.0</td>\n      <td>Teton</td>\n      <td>Wyoming</td>\n      <td>43.935225</td>\n      <td>-110.589080</td>\n      <td>Teton, Wyoming, US</td>\n      <td>2020-04-18</td>\n      <td>62</td>\n      <td>0</td>\n    </tr>\n    <tr>\n      <th>286329</th>\n      <td>56041.0</td>\n      <td>Uinta</td>\n      <td>Wyoming</td>\n      <td>41.287818</td>\n      <td>-110.547578</td>\n      <td>Uinta, Wyoming, US</td>\n      <td>2020-04-18</td>\n      <td>6</td>\n      <td>0</td>\n    </tr>\n    <tr>\n      <th>286330</th>\n      <td>56043.0</td>\n      <td>Washakie</td>\n      <td>Wyoming</td>\n      <td>43.904516</td>\n      <td>-107.680187</td>\n      <td>Washakie, Wyoming, US</td>\n      <td>2020-04-18</td>\n      <td>5</td>\n      <td>0</td>\n    </tr>\n    <tr>\n      <th>286331</th>\n      <td>56045.0</td>\n      <td>Weston</td>\n      <td>Wyoming</td>\n      <td>43.839612</td>\n      <td>-104.567488</td>\n      <td>Weston, Wyoming, US</td>\n      <td>2020-04-18</td>\n      <td>0</td>\n      <td>0</td>\n    </tr>\n  </tbody>\n</table>\n</div>"
     },
     "metadata": {},
     "execution_count": 12
    }
   ],
   "source": [
    "# Remove rows without a county name\n",
    "kaggle_final = kaggle_drop.loc[kaggle_drop[\"County\"] != \"Unassigned\",:]\n",
    "kaggle_final2 = kaggle_final[~kaggle_final[\"County\"].str.contains(\"Out of\")]\n",
    "kaggle_final2.tail(10)"
   ]
  },
  {
   "cell_type": "code",
   "execution_count": 13,
   "metadata": {},
   "outputs": [
    {
     "output_type": "execute_result",
     "data": {
      "text/plain": "           FIPS      County    State        Lat         Lng  \\\n276491  56037.0  Sweetwater  Wyoming  41.659439 -108.882788   \n276492  56039.0       Teton  Wyoming  43.935225 -110.589080   \n276493  56041.0       Uinta  Wyoming  41.287818 -110.547578   \n276494  56043.0    Washakie  Wyoming  43.904516 -107.680187   \n276495  56045.0      Weston  Wyoming  43.839612 -104.567488   \n\n                   Combined_Key       Date  Confirmed  Deaths  \n276491  Sweetwater, Wyoming, US 2020-04-18         10       0  \n276492       Teton, Wyoming, US 2020-04-18         62       0  \n276493       Uinta, Wyoming, US 2020-04-18          6       0  \n276494    Washakie, Wyoming, US 2020-04-18          5       0  \n276495      Weston, Wyoming, US 2020-04-18          0       0  ",
      "text/html": "<div>\n<style scoped>\n    .dataframe tbody tr th:only-of-type {\n        vertical-align: middle;\n    }\n\n    .dataframe tbody tr th {\n        vertical-align: top;\n    }\n\n    .dataframe thead th {\n        text-align: right;\n    }\n</style>\n<table border=\"1\" class=\"dataframe\">\n  <thead>\n    <tr style=\"text-align: right;\">\n      <th></th>\n      <th>FIPS</th>\n      <th>County</th>\n      <th>State</th>\n      <th>Lat</th>\n      <th>Lng</th>\n      <th>Combined_Key</th>\n      <th>Date</th>\n      <th>Confirmed</th>\n      <th>Deaths</th>\n    </tr>\n  </thead>\n  <tbody>\n    <tr>\n      <th>276491</th>\n      <td>56037.0</td>\n      <td>Sweetwater</td>\n      <td>Wyoming</td>\n      <td>41.659439</td>\n      <td>-108.882788</td>\n      <td>Sweetwater, Wyoming, US</td>\n      <td>2020-04-18</td>\n      <td>10</td>\n      <td>0</td>\n    </tr>\n    <tr>\n      <th>276492</th>\n      <td>56039.0</td>\n      <td>Teton</td>\n      <td>Wyoming</td>\n      <td>43.935225</td>\n      <td>-110.589080</td>\n      <td>Teton, Wyoming, US</td>\n      <td>2020-04-18</td>\n      <td>62</td>\n      <td>0</td>\n    </tr>\n    <tr>\n      <th>276493</th>\n      <td>56041.0</td>\n      <td>Uinta</td>\n      <td>Wyoming</td>\n      <td>41.287818</td>\n      <td>-110.547578</td>\n      <td>Uinta, Wyoming, US</td>\n      <td>2020-04-18</td>\n      <td>6</td>\n      <td>0</td>\n    </tr>\n    <tr>\n      <th>276494</th>\n      <td>56043.0</td>\n      <td>Washakie</td>\n      <td>Wyoming</td>\n      <td>43.904516</td>\n      <td>-107.680187</td>\n      <td>Washakie, Wyoming, US</td>\n      <td>2020-04-18</td>\n      <td>5</td>\n      <td>0</td>\n    </tr>\n    <tr>\n      <th>276495</th>\n      <td>56045.0</td>\n      <td>Weston</td>\n      <td>Wyoming</td>\n      <td>43.839612</td>\n      <td>-104.567488</td>\n      <td>Weston, Wyoming, US</td>\n      <td>2020-04-18</td>\n      <td>0</td>\n      <td>0</td>\n    </tr>\n  </tbody>\n</table>\n</div>"
     },
     "metadata": {},
     "execution_count": 13
    }
   ],
   "source": [
    "# Reset index to use as primary key for county table\n",
    "kaggle_final3 = kaggle_final2.reset_index(drop=True)\n",
    "kaggle_final3.tail()"
   ]
  },
  {
   "cell_type": "code",
   "execution_count": 14,
   "metadata": {},
   "outputs": [],
   "source": [
    "# Export kaggle df as a csv so it can be imported to postgres\n",
    "kaggle_final3.to_csv(\"Clean_CSVs/county_data.csv\", encoding=\"utf-8\", index=True)"
   ]
  },
  {
   "cell_type": "markdown",
   "metadata": {},
   "source": [
    "# Import CDC CSV With COVID Forecasts By State #"
   ]
  },
  {
   "cell_type": "code",
   "execution_count": 15,
   "metadata": {},
   "outputs": [
    {
     "output_type": "execute_result",
     "data": {
      "text/plain": "     model forecast_date                target target_week_end_date  \\\n1640   YYG     4/20/2020  4 wk ahead cum death            5/16/2020   \n1641   YYG     4/20/2020  1 wk ahead cum death            4/25/2020   \n1642   YYG     4/20/2020  2 wk ahead cum death             5/2/2020   \n1643   YYG     4/20/2020  3 wk ahead cum death             5/9/2020   \n1644   YYG     4/20/2020  4 wk ahead cum death            5/16/2020   \n\n      location_name  point  quantile_0.025  quantile_0.975  \n1640  West Virginia     75            54.0           110.0  \n1641        Wyoming      4             4.0             4.0  \n1642        Wyoming      8             7.0             9.0  \n1643        Wyoming     11            10.0            14.0  \n1644        Wyoming     15            13.0            19.0  ",
      "text/html": "<div>\n<style scoped>\n    .dataframe tbody tr th:only-of-type {\n        vertical-align: middle;\n    }\n\n    .dataframe tbody tr th {\n        vertical-align: top;\n    }\n\n    .dataframe thead th {\n        text-align: right;\n    }\n</style>\n<table border=\"1\" class=\"dataframe\">\n  <thead>\n    <tr style=\"text-align: right;\">\n      <th></th>\n      <th>model</th>\n      <th>forecast_date</th>\n      <th>target</th>\n      <th>target_week_end_date</th>\n      <th>location_name</th>\n      <th>point</th>\n      <th>quantile_0.025</th>\n      <th>quantile_0.975</th>\n    </tr>\n  </thead>\n  <tbody>\n    <tr>\n      <th>1640</th>\n      <td>YYG</td>\n      <td>4/20/2020</td>\n      <td>4 wk ahead cum death</td>\n      <td>5/16/2020</td>\n      <td>West Virginia</td>\n      <td>75</td>\n      <td>54.0</td>\n      <td>110.0</td>\n    </tr>\n    <tr>\n      <th>1641</th>\n      <td>YYG</td>\n      <td>4/20/2020</td>\n      <td>1 wk ahead cum death</td>\n      <td>4/25/2020</td>\n      <td>Wyoming</td>\n      <td>4</td>\n      <td>4.0</td>\n      <td>4.0</td>\n    </tr>\n    <tr>\n      <th>1642</th>\n      <td>YYG</td>\n      <td>4/20/2020</td>\n      <td>2 wk ahead cum death</td>\n      <td>5/2/2020</td>\n      <td>Wyoming</td>\n      <td>8</td>\n      <td>7.0</td>\n      <td>9.0</td>\n    </tr>\n    <tr>\n      <th>1643</th>\n      <td>YYG</td>\n      <td>4/20/2020</td>\n      <td>3 wk ahead cum death</td>\n      <td>5/9/2020</td>\n      <td>Wyoming</td>\n      <td>11</td>\n      <td>10.0</td>\n      <td>14.0</td>\n    </tr>\n    <tr>\n      <th>1644</th>\n      <td>YYG</td>\n      <td>4/20/2020</td>\n      <td>4 wk ahead cum death</td>\n      <td>5/16/2020</td>\n      <td>Wyoming</td>\n      <td>15</td>\n      <td>13.0</td>\n      <td>19.0</td>\n    </tr>\n  </tbody>\n</table>\n</div>"
     },
     "metadata": {},
     "execution_count": 15
    }
   ],
   "source": [
    "# Import csv file with forecast of potential deaths by state\n",
    "# Data was downloaded from https://www.cdc.gov/coronavirus/2019-ncov/covid-data/forecasting-us.html\n",
    "file2 = \"Raw_Data/forecast_data_0420.csv\"\n",
    "forecast_raw = pd.read_csv(file2)\n",
    "forecast_raw.tail()"
   ]
  },
  {
   "cell_type": "code",
   "execution_count": 16,
   "metadata": {},
   "outputs": [
    {
     "output_type": "execute_result",
     "data": {
      "text/plain": "                      model forecast_date                target  \\\n1  CU 40% contact reduction     4/20/2020  1 wk ahead cum death   \n2  CU 40% contact reduction     4/20/2020  1 wk ahead cum death   \n3  CU 40% contact reduction     4/20/2020  1 wk ahead cum death   \n4  CU 40% contact reduction     4/20/2020  1 wk ahead cum death   \n5  CU 40% contact reduction     4/20/2020  1 wk ahead cum death   \n\n  target_week_end_date location_name  point  quantile_0.025  quantile_0.975  \n1            4/25/2020       Alabama    184           157.0           226.0  \n2            4/25/2020        Alaska     15            15.0            18.0  \n3            4/25/2020       Arizona    265           222.0           325.0  \n4            4/25/2020      Arkansas     50            42.0            62.0  \n5            4/25/2020    California   2012          1792.0          2520.0  ",
      "text/html": "<div>\n<style scoped>\n    .dataframe tbody tr th:only-of-type {\n        vertical-align: middle;\n    }\n\n    .dataframe tbody tr th {\n        vertical-align: top;\n    }\n\n    .dataframe thead th {\n        text-align: right;\n    }\n</style>\n<table border=\"1\" class=\"dataframe\">\n  <thead>\n    <tr style=\"text-align: right;\">\n      <th></th>\n      <th>model</th>\n      <th>forecast_date</th>\n      <th>target</th>\n      <th>target_week_end_date</th>\n      <th>location_name</th>\n      <th>point</th>\n      <th>quantile_0.025</th>\n      <th>quantile_0.975</th>\n    </tr>\n  </thead>\n  <tbody>\n    <tr>\n      <th>1</th>\n      <td>CU 40% contact reduction</td>\n      <td>4/20/2020</td>\n      <td>1 wk ahead cum death</td>\n      <td>4/25/2020</td>\n      <td>Alabama</td>\n      <td>184</td>\n      <td>157.0</td>\n      <td>226.0</td>\n    </tr>\n    <tr>\n      <th>2</th>\n      <td>CU 40% contact reduction</td>\n      <td>4/20/2020</td>\n      <td>1 wk ahead cum death</td>\n      <td>4/25/2020</td>\n      <td>Alaska</td>\n      <td>15</td>\n      <td>15.0</td>\n      <td>18.0</td>\n    </tr>\n    <tr>\n      <th>3</th>\n      <td>CU 40% contact reduction</td>\n      <td>4/20/2020</td>\n      <td>1 wk ahead cum death</td>\n      <td>4/25/2020</td>\n      <td>Arizona</td>\n      <td>265</td>\n      <td>222.0</td>\n      <td>325.0</td>\n    </tr>\n    <tr>\n      <th>4</th>\n      <td>CU 40% contact reduction</td>\n      <td>4/20/2020</td>\n      <td>1 wk ahead cum death</td>\n      <td>4/25/2020</td>\n      <td>Arkansas</td>\n      <td>50</td>\n      <td>42.0</td>\n      <td>62.0</td>\n    </tr>\n    <tr>\n      <th>5</th>\n      <td>CU 40% contact reduction</td>\n      <td>4/20/2020</td>\n      <td>1 wk ahead cum death</td>\n      <td>4/25/2020</td>\n      <td>California</td>\n      <td>2012</td>\n      <td>1792.0</td>\n      <td>2520.0</td>\n    </tr>\n  </tbody>\n</table>\n</div>"
     },
     "metadata": {},
     "execution_count": 16
    }
   ],
   "source": [
    "# Only keep rows for states, not whole of US and US territories\n",
    "forecast_states = forecast_raw.loc[forecast_raw[\"location_name\"].isin(us_states_list),:]\n",
    "forecast_states.head()"
   ]
  },
  {
   "cell_type": "code",
   "execution_count": 17,
   "metadata": {},
   "outputs": [
    {
     "output_type": "execute_result",
     "data": {
      "text/plain": "model                   1592\nforecast_date           1592\ntarget                  1592\ntarget_week_end_date    1592\nlocation_name           1592\npoint                   1592\nquantile_0.025          1592\nquantile_0.975          1592\ndtype: int64"
     },
     "metadata": {},
     "execution_count": 17
    }
   ],
   "source": [
    "# Drop rows with missing data\n",
    "forecast_states = forecast_states.dropna()\n",
    "forecast_states.count()"
   ]
  },
  {
   "cell_type": "code",
   "execution_count": 18,
   "metadata": {},
   "outputs": [
    {
     "output_type": "execute_result",
     "data": {
      "text/plain": "                       model forecast_date                target  \\\n1   CU 40% contact reduction     4/20/2020  1 wk ahead cum death   \n2   CU 40% contact reduction     4/20/2020  1 wk ahead cum death   \n3   CU 40% contact reduction     4/20/2020  1 wk ahead cum death   \n4   CU 40% contact reduction     4/20/2020  1 wk ahead cum death   \n5   CU 40% contact reduction     4/20/2020  1 wk ahead cum death   \n6   CU 40% contact reduction     4/20/2020  1 wk ahead cum death   \n7   CU 40% contact reduction     4/20/2020  1 wk ahead cum death   \n8   CU 40% contact reduction     4/20/2020  1 wk ahead cum death   \n9   CU 40% contact reduction     4/20/2020  1 wk ahead cum death   \n10  CU 40% contact reduction     4/20/2020  1 wk ahead cum death   \n11  CU 40% contact reduction     4/20/2020  1 wk ahead cum death   \n12  CU 40% contact reduction     4/20/2020  1 wk ahead cum death   \n13  CU 40% contact reduction     4/20/2020  1 wk ahead cum death   \n14  CU 40% contact reduction     4/20/2020  1 wk ahead cum death   \n15  CU 40% contact reduction     4/20/2020  1 wk ahead cum death   \n16  CU 40% contact reduction     4/20/2020  1 wk ahead cum death   \n17  CU 40% contact reduction     4/20/2020  1 wk ahead cum death   \n18  CU 40% contact reduction     4/20/2020  1 wk ahead cum death   \n19  CU 40% contact reduction     4/20/2020  1 wk ahead cum death   \n20  CU 40% contact reduction     4/20/2020  1 wk ahead cum death   \n\n   target_end_date        state  actual  quantile_0.025  quantile_0.975  \n1        4/25/2020      Alabama     184           157.0           226.0  \n2        4/25/2020       Alaska      15            15.0            18.0  \n3        4/25/2020      Arizona     265           222.0           325.0  \n4        4/25/2020     Arkansas      50            42.0            62.0  \n5        4/25/2020   California    2012          1792.0          2520.0  \n6        4/25/2020     Colorado     585           525.0           650.0  \n7        4/25/2020  Connecticut    2153          1748.0          2483.0  \n8        4/25/2020     Delaware     232           175.0           306.0  \n9        4/25/2020      Florida    1419          1162.0          1715.0  \n10       4/25/2020      Georgia     927           843.0          1026.0  \n11       4/25/2020       Hawaii      14            10.0            24.0  \n12       4/25/2020        Idaho      54            47.0            71.0  \n13       4/25/2020     Illinois    2426          1836.0          2808.0  \n14       4/25/2020      Indiana     815           703.0           894.0  \n15       4/25/2020         Iowa     103            88.0           131.0  \n16       4/25/2020       Kansas     113            98.0           130.0  \n17       4/25/2020     Kentucky     165           154.0           183.0  \n18       4/25/2020    Louisiana    1832          1604.0          1983.0  \n19       4/25/2020        Maine      37            33.0            51.0  \n20       4/25/2020     Maryland    1036           892.0          1227.0  ",
      "text/html": "<div>\n<style scoped>\n    .dataframe tbody tr th:only-of-type {\n        vertical-align: middle;\n    }\n\n    .dataframe tbody tr th {\n        vertical-align: top;\n    }\n\n    .dataframe thead th {\n        text-align: right;\n    }\n</style>\n<table border=\"1\" class=\"dataframe\">\n  <thead>\n    <tr style=\"text-align: right;\">\n      <th></th>\n      <th>model</th>\n      <th>forecast_date</th>\n      <th>target</th>\n      <th>target_end_date</th>\n      <th>state</th>\n      <th>actual</th>\n      <th>quantile_0.025</th>\n      <th>quantile_0.975</th>\n    </tr>\n  </thead>\n  <tbody>\n    <tr>\n      <th>1</th>\n      <td>CU 40% contact reduction</td>\n      <td>4/20/2020</td>\n      <td>1 wk ahead cum death</td>\n      <td>4/25/2020</td>\n      <td>Alabama</td>\n      <td>184</td>\n      <td>157.0</td>\n      <td>226.0</td>\n    </tr>\n    <tr>\n      <th>2</th>\n      <td>CU 40% contact reduction</td>\n      <td>4/20/2020</td>\n      <td>1 wk ahead cum death</td>\n      <td>4/25/2020</td>\n      <td>Alaska</td>\n      <td>15</td>\n      <td>15.0</td>\n      <td>18.0</td>\n    </tr>\n    <tr>\n      <th>3</th>\n      <td>CU 40% contact reduction</td>\n      <td>4/20/2020</td>\n      <td>1 wk ahead cum death</td>\n      <td>4/25/2020</td>\n      <td>Arizona</td>\n      <td>265</td>\n      <td>222.0</td>\n      <td>325.0</td>\n    </tr>\n    <tr>\n      <th>4</th>\n      <td>CU 40% contact reduction</td>\n      <td>4/20/2020</td>\n      <td>1 wk ahead cum death</td>\n      <td>4/25/2020</td>\n      <td>Arkansas</td>\n      <td>50</td>\n      <td>42.0</td>\n      <td>62.0</td>\n    </tr>\n    <tr>\n      <th>5</th>\n      <td>CU 40% contact reduction</td>\n      <td>4/20/2020</td>\n      <td>1 wk ahead cum death</td>\n      <td>4/25/2020</td>\n      <td>California</td>\n      <td>2012</td>\n      <td>1792.0</td>\n      <td>2520.0</td>\n    </tr>\n    <tr>\n      <th>6</th>\n      <td>CU 40% contact reduction</td>\n      <td>4/20/2020</td>\n      <td>1 wk ahead cum death</td>\n      <td>4/25/2020</td>\n      <td>Colorado</td>\n      <td>585</td>\n      <td>525.0</td>\n      <td>650.0</td>\n    </tr>\n    <tr>\n      <th>7</th>\n      <td>CU 40% contact reduction</td>\n      <td>4/20/2020</td>\n      <td>1 wk ahead cum death</td>\n      <td>4/25/2020</td>\n      <td>Connecticut</td>\n      <td>2153</td>\n      <td>1748.0</td>\n      <td>2483.0</td>\n    </tr>\n    <tr>\n      <th>8</th>\n      <td>CU 40% contact reduction</td>\n      <td>4/20/2020</td>\n      <td>1 wk ahead cum death</td>\n      <td>4/25/2020</td>\n      <td>Delaware</td>\n      <td>232</td>\n      <td>175.0</td>\n      <td>306.0</td>\n    </tr>\n    <tr>\n      <th>9</th>\n      <td>CU 40% contact reduction</td>\n      <td>4/20/2020</td>\n      <td>1 wk ahead cum death</td>\n      <td>4/25/2020</td>\n      <td>Florida</td>\n      <td>1419</td>\n      <td>1162.0</td>\n      <td>1715.0</td>\n    </tr>\n    <tr>\n      <th>10</th>\n      <td>CU 40% contact reduction</td>\n      <td>4/20/2020</td>\n      <td>1 wk ahead cum death</td>\n      <td>4/25/2020</td>\n      <td>Georgia</td>\n      <td>927</td>\n      <td>843.0</td>\n      <td>1026.0</td>\n    </tr>\n    <tr>\n      <th>11</th>\n      <td>CU 40% contact reduction</td>\n      <td>4/20/2020</td>\n      <td>1 wk ahead cum death</td>\n      <td>4/25/2020</td>\n      <td>Hawaii</td>\n      <td>14</td>\n      <td>10.0</td>\n      <td>24.0</td>\n    </tr>\n    <tr>\n      <th>12</th>\n      <td>CU 40% contact reduction</td>\n      <td>4/20/2020</td>\n      <td>1 wk ahead cum death</td>\n      <td>4/25/2020</td>\n      <td>Idaho</td>\n      <td>54</td>\n      <td>47.0</td>\n      <td>71.0</td>\n    </tr>\n    <tr>\n      <th>13</th>\n      <td>CU 40% contact reduction</td>\n      <td>4/20/2020</td>\n      <td>1 wk ahead cum death</td>\n      <td>4/25/2020</td>\n      <td>Illinois</td>\n      <td>2426</td>\n      <td>1836.0</td>\n      <td>2808.0</td>\n    </tr>\n    <tr>\n      <th>14</th>\n      <td>CU 40% contact reduction</td>\n      <td>4/20/2020</td>\n      <td>1 wk ahead cum death</td>\n      <td>4/25/2020</td>\n      <td>Indiana</td>\n      <td>815</td>\n      <td>703.0</td>\n      <td>894.0</td>\n    </tr>\n    <tr>\n      <th>15</th>\n      <td>CU 40% contact reduction</td>\n      <td>4/20/2020</td>\n      <td>1 wk ahead cum death</td>\n      <td>4/25/2020</td>\n      <td>Iowa</td>\n      <td>103</td>\n      <td>88.0</td>\n      <td>131.0</td>\n    </tr>\n    <tr>\n      <th>16</th>\n      <td>CU 40% contact reduction</td>\n      <td>4/20/2020</td>\n      <td>1 wk ahead cum death</td>\n      <td>4/25/2020</td>\n      <td>Kansas</td>\n      <td>113</td>\n      <td>98.0</td>\n      <td>130.0</td>\n    </tr>\n    <tr>\n      <th>17</th>\n      <td>CU 40% contact reduction</td>\n      <td>4/20/2020</td>\n      <td>1 wk ahead cum death</td>\n      <td>4/25/2020</td>\n      <td>Kentucky</td>\n      <td>165</td>\n      <td>154.0</td>\n      <td>183.0</td>\n    </tr>\n    <tr>\n      <th>18</th>\n      <td>CU 40% contact reduction</td>\n      <td>4/20/2020</td>\n      <td>1 wk ahead cum death</td>\n      <td>4/25/2020</td>\n      <td>Louisiana</td>\n      <td>1832</td>\n      <td>1604.0</td>\n      <td>1983.0</td>\n    </tr>\n    <tr>\n      <th>19</th>\n      <td>CU 40% contact reduction</td>\n      <td>4/20/2020</td>\n      <td>1 wk ahead cum death</td>\n      <td>4/25/2020</td>\n      <td>Maine</td>\n      <td>37</td>\n      <td>33.0</td>\n      <td>51.0</td>\n    </tr>\n    <tr>\n      <th>20</th>\n      <td>CU 40% contact reduction</td>\n      <td>4/20/2020</td>\n      <td>1 wk ahead cum death</td>\n      <td>4/25/2020</td>\n      <td>Maryland</td>\n      <td>1036</td>\n      <td>892.0</td>\n      <td>1227.0</td>\n    </tr>\n  </tbody>\n</table>\n</div>"
     },
     "metadata": {},
     "execution_count": 18
    }
   ],
   "source": [
    "# Rename columns (target week end date to target end date, location name to state, point to actual)\n",
    "forecast_renamed = forecast_states.rename(columns={\"target_week_end_date\":\"target_end_date\", \"location_name\":\"state\", \"point\":\"actual\"})\n",
    "forecast_renamed.head(20)"
   ]
  },
  {
   "cell_type": "code",
   "execution_count": 19,
   "metadata": {},
   "outputs": [
    {
     "output_type": "execute_result",
     "data": {
      "text/plain": "model               object\nforecast_date       object\ntarget              object\ntarget_end_date     object\nstate               object\nactual               int64\nquantile_0.025     float64\nquantile_0.975     float64\ndtype: object"
     },
     "metadata": {},
     "execution_count": 19
    }
   ],
   "source": [
    "# Check if date column types are datetime or string \n",
    "forecast_renamed.dtypes"
   ]
  },
  {
   "cell_type": "code",
   "execution_count": 20,
   "metadata": {},
   "outputs": [
    {
     "output_type": "execute_result",
     "data": {
      "text/plain": "     model forecast_date                target target_end_date          state  \\\n1640   YYG    2020-04-20  4 wk ahead cum death      2020-05-16  West Virginia   \n1641   YYG    2020-04-20  1 wk ahead cum death      2020-04-25        Wyoming   \n1642   YYG    2020-04-20  2 wk ahead cum death      2020-05-02        Wyoming   \n1643   YYG    2020-04-20  3 wk ahead cum death      2020-05-09        Wyoming   \n1644   YYG    2020-04-20  4 wk ahead cum death      2020-05-16        Wyoming   \n\n      actual  quantile_0.025  quantile_0.975  \n1640      75            54.0           110.0  \n1641       4             4.0             4.0  \n1642       8             7.0             9.0  \n1643      11            10.0            14.0  \n1644      15            13.0            19.0  ",
      "text/html": "<div>\n<style scoped>\n    .dataframe tbody tr th:only-of-type {\n        vertical-align: middle;\n    }\n\n    .dataframe tbody tr th {\n        vertical-align: top;\n    }\n\n    .dataframe thead th {\n        text-align: right;\n    }\n</style>\n<table border=\"1\" class=\"dataframe\">\n  <thead>\n    <tr style=\"text-align: right;\">\n      <th></th>\n      <th>model</th>\n      <th>forecast_date</th>\n      <th>target</th>\n      <th>target_end_date</th>\n      <th>state</th>\n      <th>actual</th>\n      <th>quantile_0.025</th>\n      <th>quantile_0.975</th>\n    </tr>\n  </thead>\n  <tbody>\n    <tr>\n      <th>1640</th>\n      <td>YYG</td>\n      <td>2020-04-20</td>\n      <td>4 wk ahead cum death</td>\n      <td>2020-05-16</td>\n      <td>West Virginia</td>\n      <td>75</td>\n      <td>54.0</td>\n      <td>110.0</td>\n    </tr>\n    <tr>\n      <th>1641</th>\n      <td>YYG</td>\n      <td>2020-04-20</td>\n      <td>1 wk ahead cum death</td>\n      <td>2020-04-25</td>\n      <td>Wyoming</td>\n      <td>4</td>\n      <td>4.0</td>\n      <td>4.0</td>\n    </tr>\n    <tr>\n      <th>1642</th>\n      <td>YYG</td>\n      <td>2020-04-20</td>\n      <td>2 wk ahead cum death</td>\n      <td>2020-05-02</td>\n      <td>Wyoming</td>\n      <td>8</td>\n      <td>7.0</td>\n      <td>9.0</td>\n    </tr>\n    <tr>\n      <th>1643</th>\n      <td>YYG</td>\n      <td>2020-04-20</td>\n      <td>3 wk ahead cum death</td>\n      <td>2020-05-09</td>\n      <td>Wyoming</td>\n      <td>11</td>\n      <td>10.0</td>\n      <td>14.0</td>\n    </tr>\n    <tr>\n      <th>1644</th>\n      <td>YYG</td>\n      <td>2020-04-20</td>\n      <td>4 wk ahead cum death</td>\n      <td>2020-05-16</td>\n      <td>Wyoming</td>\n      <td>15</td>\n      <td>13.0</td>\n      <td>19.0</td>\n    </tr>\n  </tbody>\n</table>\n</div>"
     },
     "metadata": {},
     "execution_count": 20
    }
   ],
   "source": [
    "# Change dates from strings to datetime objects\n",
    "forecast_renamed['forecast_date'] = pd.to_datetime(forecast_renamed['forecast_date'],format='%m/%d/%Y')\n",
    "forecast_renamed['target_end_date'] = pd.to_datetime(forecast_renamed['target_end_date'],format='%m/%d/%Y')\n",
    "forecast_renamed.tail()"
   ]
  },
  {
   "cell_type": "code",
   "execution_count": 21,
   "metadata": {},
   "outputs": [
    {
     "output_type": "execute_result",
     "data": {
      "text/plain": "model                      object\nforecast_date      datetime64[ns]\ntarget                     object\ntarget_end_date    datetime64[ns]\nstate                      object\nactual                      int64\nquantile_0.025            float64\nquantile_0.975            float64\ndtype: object"
     },
     "metadata": {},
     "execution_count": 21
    }
   ],
   "source": [
    "# Verify columns changed to datetime\n",
    "forecast_renamed.dtypes"
   ]
  },
  {
   "cell_type": "code",
   "execution_count": 22,
   "metadata": {},
   "outputs": [
    {
     "output_type": "execute_result",
     "data": {
      "text/plain": "     model forecast_date                target target_end_date          state  \\\n1587   YYG    2020-04-20  4 wk ahead cum death      2020-05-16  West Virginia   \n1588   YYG    2020-04-20  1 wk ahead cum death      2020-04-25        Wyoming   \n1589   YYG    2020-04-20  2 wk ahead cum death      2020-05-02        Wyoming   \n1590   YYG    2020-04-20  3 wk ahead cum death      2020-05-09        Wyoming   \n1591   YYG    2020-04-20  4 wk ahead cum death      2020-05-16        Wyoming   \n\n      actual  quantile_0.025  quantile_0.975  \n1587      75            54.0           110.0  \n1588       4             4.0             4.0  \n1589       8             7.0             9.0  \n1590      11            10.0            14.0  \n1591      15            13.0            19.0  ",
      "text/html": "<div>\n<style scoped>\n    .dataframe tbody tr th:only-of-type {\n        vertical-align: middle;\n    }\n\n    .dataframe tbody tr th {\n        vertical-align: top;\n    }\n\n    .dataframe thead th {\n        text-align: right;\n    }\n</style>\n<table border=\"1\" class=\"dataframe\">\n  <thead>\n    <tr style=\"text-align: right;\">\n      <th></th>\n      <th>model</th>\n      <th>forecast_date</th>\n      <th>target</th>\n      <th>target_end_date</th>\n      <th>state</th>\n      <th>actual</th>\n      <th>quantile_0.025</th>\n      <th>quantile_0.975</th>\n    </tr>\n  </thead>\n  <tbody>\n    <tr>\n      <th>1587</th>\n      <td>YYG</td>\n      <td>2020-04-20</td>\n      <td>4 wk ahead cum death</td>\n      <td>2020-05-16</td>\n      <td>West Virginia</td>\n      <td>75</td>\n      <td>54.0</td>\n      <td>110.0</td>\n    </tr>\n    <tr>\n      <th>1588</th>\n      <td>YYG</td>\n      <td>2020-04-20</td>\n      <td>1 wk ahead cum death</td>\n      <td>2020-04-25</td>\n      <td>Wyoming</td>\n      <td>4</td>\n      <td>4.0</td>\n      <td>4.0</td>\n    </tr>\n    <tr>\n      <th>1589</th>\n      <td>YYG</td>\n      <td>2020-04-20</td>\n      <td>2 wk ahead cum death</td>\n      <td>2020-05-02</td>\n      <td>Wyoming</td>\n      <td>8</td>\n      <td>7.0</td>\n      <td>9.0</td>\n    </tr>\n    <tr>\n      <th>1590</th>\n      <td>YYG</td>\n      <td>2020-04-20</td>\n      <td>3 wk ahead cum death</td>\n      <td>2020-05-09</td>\n      <td>Wyoming</td>\n      <td>11</td>\n      <td>10.0</td>\n      <td>14.0</td>\n    </tr>\n    <tr>\n      <th>1591</th>\n      <td>YYG</td>\n      <td>2020-04-20</td>\n      <td>4 wk ahead cum death</td>\n      <td>2020-05-16</td>\n      <td>Wyoming</td>\n      <td>15</td>\n      <td>13.0</td>\n      <td>19.0</td>\n    </tr>\n  </tbody>\n</table>\n</div>"
     },
     "metadata": {},
     "execution_count": 22
    }
   ],
   "source": [
    "# Reset index to use as primary key for county table\n",
    "forecast_final = forecast_renamed.reset_index(drop=True)\n",
    "forecast_final.tail()"
   ]
  },
  {
   "cell_type": "code",
   "execution_count": 23,
   "metadata": {},
   "outputs": [],
   "source": [
    "# Export forecast df as a csv so it can be imported to postgres\n",
    "forecast_final.to_csv(\"Clean_CSVs/forecast_cdc.csv\", encoding=\"utf-8\", index=True)"
   ]
  },
  {
   "cell_type": "markdown",
   "metadata": {},
   "source": [
    "# Scraping Policydates And Hospital Resource Data #"
   ]
  },
  {
   "cell_type": "code",
   "execution_count": 24,
   "metadata": {},
   "outputs": [],
   "source": [
    "#Define empty lists to store data for each state\n",
    "covid19_healthdate_dates_bystate = []\n",
    "covid19_healthdate_resources_bystate = []"
   ]
  },
  {
   "cell_type": "code",
   "execution_count": 25,
   "metadata": {},
   "outputs": [],
   "source": [
    "#function to scrape covid19.healthdata.org for each state\n",
    "def covid19_healthdata_scrape(state):\n",
    "    #formating the state to match url \n",
    "    formatedstate = state.lower().replace(' ', '-') \n",
    "    url = f\"https://covid19.healthdata.org/united-states-of-america/{formatedstate}\"\n",
    "    #access the webpage using selenium\n",
    "    driver = webdriver.Chrome()\n",
    "    driver.get(url)\n",
    "    #after accessing the page, wait 5 seconds so the page can fully load before running next line of code\n",
    "    time.sleep(5)\n",
    "    #direct path to policy dates information since info is located at same place for every state\n",
    "    dates_div = driver.find_elements_by_xpath(\"/html/body/div/div/main/div[3]/div[1]/div[2]\")\n",
    "    #grab the information using list comprehension\n",
    "    dates_divs_text = [x.text for x in dates_div]\n",
    "    #splitting up the data as they are all stored in the same div\n",
    "    dates_text_split = dates_divs_text[0].split('\\n')\n",
    "    #location of resources information\n",
    "    resources_div = driver.find_elements_by_xpath(\"/html/body/div/div/main/div[3]/div[3]/div[2]/div/div[2]/div[2]\")\n",
    "    #grab the information using list comprehension\n",
    "    resources_div_text = [x.text for x in resources_div]\n",
    "    #splitting up the data as they are all stored in the same div\n",
    "    resources_div_split = resources_div_text[0].split('\\n')\n",
    "    #close the web browser after getting the information needed\n",
    "    driver.close()\n",
    "    #splitting the dates data and storing them in a dictionary\n",
    "    dates_data = {\n",
    "    'state': state,\n",
    "    'mass_gathering_restriction': dates_text_split[1],\n",
    "    'initual_business_closure': dates_text_split[3],\n",
    "    'educational_facilities_closure': dates_text_split[5],\n",
    "    'non-essential_services_closure': dates_text_split[7],\n",
    "    'stay_at_home_order': dates_text_split[9],\n",
    "    'travel_severely_limited': dates_text_split[11]}\n",
    "    #splitting the resources data, removing unnecessary words, converting them into integers, and storing them in a dictionary\n",
    "    try: \n",
    "        resources_data = {\n",
    "        'state': state,\n",
    "        'hospital_beds_needed': int(resources_div_split[1].replace('beds','').replace(',','')),\n",
    "        'hospital_beds_available': int(resources_div_split[3].replace('beds','').replace(',','')),\n",
    "        'hospital_beds_shortage': int(resources_div_split[5].replace('beds','').replace(',','')),\n",
    "        'icu_beds_needed': int(resources_div_split[7].replace('beds','').replace(',','')),\n",
    "        'icu_beds_available': int(resources_div_split[9].replace('beds','').replace(',','')),\n",
    "        'icu_beds_shortage': int(resources_div_split[11].replace('beds','').replace(',','')),\n",
    "        'ventilators_needed': int(resources_div_split[13].replace('ventilators','').replace(',',''))\n",
    "            } \n",
    "    except IndexError:\n",
    "        resources_data = {\n",
    "        'state': state,\n",
    "        'hospital_beds_needed': '',\n",
    "        'hospital_beds_available': int(resources_div_split[1].replace('beds','').replace(',','')),\n",
    "        'hospital_beds_shortage': '',\n",
    "        'icu_beds_needed': '',\n",
    "        'icu_beds_available': int(resources_div_split[3].replace('beds','').replace(',','')),\n",
    "        'icu_beds_shortage': '',\n",
    "        'ventilators_needed': ''}\n",
    "    #push both dictionaries into their respective list\n",
    "    covid19_healthdate_dates_bystate.append(dates_data)\n",
    "    covid19_healthdate_resources_bystate.append(resources_data)"
   ]
  },
  {
   "cell_type": "code",
   "execution_count": 26,
   "metadata": {},
   "outputs": [],
   "source": [
    "#Run the code to scrape covid19.healthdata site to grab data for the\n",
    "#policy dates declaration and hospital resource information for each state\n",
    "#and save them into list of dictionaries\n",
    "for state in us_states_list:\n",
    "    covid19_healthdata_scrape(state)"
   ]
  },
  {
   "cell_type": "code",
   "execution_count": 27,
   "metadata": {},
   "outputs": [],
   "source": [
    "#Converting the policydates from a list of dictionaries to a panda dataframe\n",
    "policydates_df = pd.DataFrame(covid19_healthdate_dates_bystate)\n",
    "#Converting the hospital resources from a list of dictionaries to a panda dataframe\n",
    "resource_df = pd.DataFrame(covid19_healthdate_resources_bystate)"
   ]
  },
  {
   "cell_type": "code",
   "execution_count": 28,
   "metadata": {},
   "outputs": [],
   "source": [
    "#Setting the index for both dataframe to the states \n",
    "policydates_df = policydates_df.set_index('state')\n",
    "resource_df = resource_df.set_index('state')"
   ]
  },
  {
   "cell_type": "code",
   "execution_count": 29,
   "metadata": {},
   "outputs": [
    {
     "output_type": "execute_result",
     "data": {
      "text/plain": "           hospital_beds_needed  hospital_beds_available  \\\nstate                                                      \nAlabama                     274                     5744   \nAlaska                       22                      683   \nArizona                     496                     6018   \nArkansas                    101                     5006   \nCalifornia                 2731                    26654   \n\n           hospital_beds_shortage icu_beds_needed  icu_beds_available  \\\nstate                                                                   \nAlabama                         0              80                 475   \nAlaska                          0               6                  54   \nArizona                         0             141                 508   \nArkansas                        0              26                 395   \nCalifornia                      0             722                1994   \n\n           icu_beds_shortage ventilators_needed  \nstate                                            \nAlabama                    0                 74  \nAlaska                     0                  6  \nArizona                    0                128  \nArkansas                   0                 23  \nCalifornia                 0                658  ",
      "text/html": "<div>\n<style scoped>\n    .dataframe tbody tr th:only-of-type {\n        vertical-align: middle;\n    }\n\n    .dataframe tbody tr th {\n        vertical-align: top;\n    }\n\n    .dataframe thead th {\n        text-align: right;\n    }\n</style>\n<table border=\"1\" class=\"dataframe\">\n  <thead>\n    <tr style=\"text-align: right;\">\n      <th></th>\n      <th>hospital_beds_needed</th>\n      <th>hospital_beds_available</th>\n      <th>hospital_beds_shortage</th>\n      <th>icu_beds_needed</th>\n      <th>icu_beds_available</th>\n      <th>icu_beds_shortage</th>\n      <th>ventilators_needed</th>\n    </tr>\n    <tr>\n      <th>state</th>\n      <th></th>\n      <th></th>\n      <th></th>\n      <th></th>\n      <th></th>\n      <th></th>\n      <th></th>\n    </tr>\n  </thead>\n  <tbody>\n    <tr>\n      <th>Alabama</th>\n      <td>274</td>\n      <td>5744</td>\n      <td>0</td>\n      <td>80</td>\n      <td>475</td>\n      <td>0</td>\n      <td>74</td>\n    </tr>\n    <tr>\n      <th>Alaska</th>\n      <td>22</td>\n      <td>683</td>\n      <td>0</td>\n      <td>6</td>\n      <td>54</td>\n      <td>0</td>\n      <td>6</td>\n    </tr>\n    <tr>\n      <th>Arizona</th>\n      <td>496</td>\n      <td>6018</td>\n      <td>0</td>\n      <td>141</td>\n      <td>508</td>\n      <td>0</td>\n      <td>128</td>\n    </tr>\n    <tr>\n      <th>Arkansas</th>\n      <td>101</td>\n      <td>5006</td>\n      <td>0</td>\n      <td>26</td>\n      <td>395</td>\n      <td>0</td>\n      <td>23</td>\n    </tr>\n    <tr>\n      <th>California</th>\n      <td>2731</td>\n      <td>26654</td>\n      <td>0</td>\n      <td>722</td>\n      <td>1994</td>\n      <td>0</td>\n      <td>658</td>\n    </tr>\n  </tbody>\n</table>\n</div>"
     },
     "metadata": {},
     "execution_count": 29
    }
   ],
   "source": [
    "resource_df.head()"
   ]
  },
  {
   "cell_type": "code",
   "execution_count": 30,
   "metadata": {},
   "outputs": [],
   "source": [
    "#Grabbing the name of each columns from the policydates dataframe \n",
    "columns = policydates_df.columns\n",
    "#Going through each state and changing all of the data strings into datetime #objects but only keeping the date portion of the datetime object\n",
    "#Some states have not implemented some policy so thus has a not implemented\n",
    "#value, those values were converted to an empty space\n",
    "\n",
    "for x in columns:\n",
    "    for y in range(len(us_states_list)):\n",
    "        try:\n",
    "            policydates_df[x][y] = pd.to_datetime(policydates_df[x][y], format='%B %d, %Y')\n",
    "            policydates_df[x][y] = policydates_df[x][y].date()\n",
    "        except ValueError:\n",
    "            policydates_df[x][y] = policydates_df[x][y].replace('Not implemented', '')"
   ]
  },
  {
   "cell_type": "code",
   "execution_count": 31,
   "metadata": {},
   "outputs": [
    {
     "output_type": "execute_result",
     "data": {
      "text/plain": "           mass_gathering_restriction initual_business_closure  \\\nstate                                                            \nAlabama                    2020-03-19               2020-03-19   \nAlaska                     2020-03-24               2020-03-17   \nArizona                    2020-03-30                            \nArkansas                   2020-03-27               2020-03-19   \nCalifornia                 2020-03-11               2020-03-19   \n\n           educational_facilities_closure non-essential_services_closure  \\\nstate                                                                      \nAlabama                        2020-03-19                     2020-03-28   \nAlaska                         2020-03-16                     2020-03-28   \nArizona                        2020-03-16                                  \nArkansas                       2020-03-17                                  \nCalifornia                     2020-03-19                     2020-03-19   \n\n           stay_at_home_order travel_severely_limited  \nstate                                                  \nAlabama            2020-04-04                          \nAlaska             2020-03-28                          \nArizona            2020-03-30                          \nArkansas                                               \nCalifornia         2020-03-19                          ",
      "text/html": "<div>\n<style scoped>\n    .dataframe tbody tr th:only-of-type {\n        vertical-align: middle;\n    }\n\n    .dataframe tbody tr th {\n        vertical-align: top;\n    }\n\n    .dataframe thead th {\n        text-align: right;\n    }\n</style>\n<table border=\"1\" class=\"dataframe\">\n  <thead>\n    <tr style=\"text-align: right;\">\n      <th></th>\n      <th>mass_gathering_restriction</th>\n      <th>initual_business_closure</th>\n      <th>educational_facilities_closure</th>\n      <th>non-essential_services_closure</th>\n      <th>stay_at_home_order</th>\n      <th>travel_severely_limited</th>\n    </tr>\n    <tr>\n      <th>state</th>\n      <th></th>\n      <th></th>\n      <th></th>\n      <th></th>\n      <th></th>\n      <th></th>\n    </tr>\n  </thead>\n  <tbody>\n    <tr>\n      <th>Alabama</th>\n      <td>2020-03-19</td>\n      <td>2020-03-19</td>\n      <td>2020-03-19</td>\n      <td>2020-03-28</td>\n      <td>2020-04-04</td>\n      <td></td>\n    </tr>\n    <tr>\n      <th>Alaska</th>\n      <td>2020-03-24</td>\n      <td>2020-03-17</td>\n      <td>2020-03-16</td>\n      <td>2020-03-28</td>\n      <td>2020-03-28</td>\n      <td></td>\n    </tr>\n    <tr>\n      <th>Arizona</th>\n      <td>2020-03-30</td>\n      <td></td>\n      <td>2020-03-16</td>\n      <td></td>\n      <td>2020-03-30</td>\n      <td></td>\n    </tr>\n    <tr>\n      <th>Arkansas</th>\n      <td>2020-03-27</td>\n      <td>2020-03-19</td>\n      <td>2020-03-17</td>\n      <td></td>\n      <td></td>\n      <td></td>\n    </tr>\n    <tr>\n      <th>California</th>\n      <td>2020-03-11</td>\n      <td>2020-03-19</td>\n      <td>2020-03-19</td>\n      <td>2020-03-19</td>\n      <td>2020-03-19</td>\n      <td></td>\n    </tr>\n  </tbody>\n</table>\n</div>"
     },
     "metadata": {},
     "execution_count": 31
    }
   ],
   "source": [
    "policydates_df.head()"
   ]
  },
  {
   "cell_type": "code",
   "execution_count": 32,
   "metadata": {},
   "outputs": [],
   "source": [
    "#Exporting the dataframes as csvs \n",
    "policydates_df.to_csv('Clean_CSVs/covid19_policydates.csv')\n",
    "resource_df.to_csv('Clean_CSVs/hospital_resources.csv')"
   ]
  },
  {
   "cell_type": "markdown",
   "metadata": {},
   "source": [
    "# Scraping WorldOMeters #"
   ]
  },
  {
   "cell_type": "markdown",
   "metadata": {},
   "source": [
    "# Making the requests and retrieving the HTML contents #"
   ]
  },
  {
   "cell_type": "code",
   "execution_count": 41,
   "metadata": {},
   "outputs": [],
   "source": [
    "#the request (needs to be 200)\n",
    "result = requests.get(\"https://www.worldometers.info/coronavirus/country/us/\")\n",
    "\n",
    "src = result.content\n",
    "soup = BeautifulSoup(src, 'html.parser')\n",
    "\n",
    "table = soup.find_all('table')\n",
    "\n",
    "state_list = []"
   ]
  },
  {
   "cell_type": "markdown",
   "metadata": {},
   "source": [
    "# Retrieving the table data from the HTML and stripping unnecessary characters and tags#"
   ]
  },
  {
   "cell_type": "code",
   "execution_count": 42,
   "metadata": {
    "tags": [
     "outputPrepend"
    ]
   },
   "outputs": [
    {
     "output_type": "stream",
     "name": "stdout",
     "text": "t\">87</td>, <td style=\"text-align:right;font-weight:bold;\">\n66,094 </td>, <td style=\"font-weight: bold; text-align:right\">22,114</td>, <td style=\"font-weight: bold; text-align:right\">6,095 </td>, <td style=\"font-weight: bold; text-align:right;background-color:#FFEEAA;\">\n+214 </td>, <td style=\"font-weight: bold; text-align:right;\">\n244 </td>, <td style=\"font-weight: bold; text-align:right;background-color:red; color:white\">+12 </td>, <td style=\"text-align:right;font-weight:bold;\">\n2,150 </td>, <td style=\"font-weight: bold; text-align:right\">1,230</td>, <td style=\"font-weight: bold; text-align:right\">49</td>, <td style=\"text-align:right;font-weight:bold;\">\n56,512 </td>, <td style=\"font-weight: bold; text-align:right\">11,403</td>, <td style=\"font-weight: bold; text-align:right\">5,136 </td>, <td style=\"font-weight: bold; text-align:right;background-color:#FFEEAA;\">\n+492 </td>, <td style=\"font-weight: bold; text-align:right;\">\n343 </td>, <td style=\"font-weight: bold; text-align:right;background-color:red; color:white\">+24 </td>, <td style=\"text-align:right;font-weight:bold;\">\n2,621 </td>, <td style=\"font-weight: bold; text-align:right\">929</td>, <td style=\"font-weight: bold; text-align:right\">62</td>, <td style=\"text-align:right;font-weight:bold;\">\n70,276 </td>, <td style=\"font-weight: bold; text-align:right\">12,714</td>, <td style=\"font-weight: bold; text-align:right\">4,998 </td>, <td style=\"font-weight: bold; text-align:right;background-color:#FFEEAA;\">\n+100 </td>, <td style=\"font-weight: bold; text-align:right;\">\n237 </td>, <td style=\"font-weight: bold; text-align:right;\"> </td>, <td style=\"text-align:right;font-weight:bold;\">\n1,856 </td>, <td style=\"font-weight: bold; text-align:right\">1,710</td>, <td style=\"font-weight: bold; text-align:right\">81</td>, <td style=\"text-align:right;font-weight:bold;\">\n51,761 </td>, <td style=\"font-weight: bold; text-align:right\">17,709</td>, <td style=\"font-weight: bold; text-align:right\">4,734 </td>, <td style=\"font-weight: bold; text-align:right;background-color:#FFEEAA;\">\n+79 </td>, <td style=\"font-weight: bold; text-align:right;\">\n152 </td>, <td style=\"font-weight: bold; text-align:right;background-color:red; color:white\">+8 </td>, <td style=\"text-align:right;font-weight:bold;\">\n3,307 </td>, <td style=\"font-weight: bold; text-align:right\">4,986</td>, <td style=\"font-weight: bold; text-align:right\">160</td>, <td style=\"text-align:right;font-weight:bold;\">\n21,820 </td>, <td style=\"font-weight: bold; text-align:right\">22,981</td>, <td style=\"font-weight: bold; text-align:right\">4,708 </td>, <td style=\"font-weight: bold; text-align:right;background-color:#FFEEAA;\">\n+169 </td>, <td style=\"font-weight: bold; text-align:right;\">\n240 </td>, <td style=\"font-weight: bold; text-align:right;background-color:red; color:white\">+5 </td>, <td style=\"text-align:right;font-weight:bold;\">\n3,346 </td>, <td style=\"font-weight: bold; text-align:right\">1,060</td>, <td style=\"font-weight: bold; text-align:right\">54</td>, <td style=\"text-align:right;font-weight:bold;\">\n56,611 </td>, <td style=\"font-weight: bold; text-align:right\">12,750</td>, <td style=\"font-weight: bold; text-align:right\">4,672 </td>, <td style=\"font-weight: bold; text-align:right;background-color:#FFEEAA;\">\n+177 </td>, <td style=\"font-weight: bold; text-align:right;\">\n46 </td>, <td style=\"font-weight: bold; text-align:right;background-color:red; color:white\">+1 </td>, <td style=\"text-align:right;font-weight:bold;\">\n2,687 </td>, <td style=\"font-weight: bold; text-align:right\">1,534</td>, <td style=\"font-weight: bold; text-align:right\">15</td>, <td style=\"text-align:right;font-weight:bold;\">\n108,501 </td>, <td style=\"font-weight: bold; text-align:right\">35,628</td>, <td style=\"font-weight: bold; text-align:right\">4,323 </td>, <td style=\"font-weight: bold; text-align:right;background-color:#FFEEAA;\">\n+217 </td>, <td style=\"font-weight: bold; text-align:right;\">\n224 </td>, <td style=\"font-weight: bold; text-align:right;background-color:red; color:white\">+19 </td>, <td style=\"text-align:right;font-weight:bold;\">\n 3,439 </td>, <td style=\"font-weight: bold; text-align:right\">6,316</td>, <td style=\"font-weight: bold; text-align:right\">327</td>, <td style=\"text-align:right;font-weight:bold;\">\n20,079 </td>, <td style=\"font-weight: bold; text-align:right\">29,334</td>, <td style=\"font-weight: bold; text-align:right\">4,302 </td>, <td style=\"font-weight: bold; text-align:right;background-color:#FFEEAA;\">\n+463 </td>, <td style=\"font-weight: bold; text-align:right;\">\n134 </td>, <td style=\"font-weight: bold; text-align:right;\"> </td>, <td style=\"text-align:right;font-weight:bold;\">\n3,367 </td>, <td style=\"font-weight: bold; text-align:right\">1,479</td>, <td style=\"font-weight: bold; text-align:right\">46</td>, <td style=\"text-align:right;font-weight:bold;\">\n31,626 </td>, <td style=\"font-weight: bold; text-align:right\">10,873</td>, <td style=\"font-weight: bold; text-align:right\">3,784 </td>, <td style=\"font-weight: bold; text-align:right;\">\n</td>, <td style=\"font-weight: bold; text-align:right;\">\n68 </td>, <td style=\"font-weight: bold; text-align:right;\"> </td>, <td style=\"text-align:right;font-weight:bold;\">\n3,694 </td>, <td style=\"font-weight: bold; text-align:right\">1,987</td>, <td style=\"font-weight: bold; text-align:right\">36</td>, <td style=\"text-align:right;font-weight:bold;\">\n25,498 </td>, <td style=\"font-weight: bold; text-align:right\">13,386</td>, <td style=\"font-weight: bold; text-align:right\">3,618 </td>, <td style=\"font-weight: bold; text-align:right;background-color:#FFEEAA;\">\n+145 </td>, <td style=\"font-weight: bold; text-align:right;\">\n222 </td>, <td style=\"font-weight: bold; text-align:right;background-color:red; color:white\">+8 </td>, <td style=\"text-align:right;font-weight:bold;\">\n995 </td>, <td style=\"font-weight: bold; text-align:right\">923</td>, <td style=\"font-weight: bold; text-align:right\">57</td>, <td style=\"text-align:right;font-weight:bold;\">\n61,619 </td>, <td style=\"font-weight: bold; text-align:right\">15,727</td>, <td style=\"font-weight: bold; text-align:right\">3,411 </td>, <td style=\"font-weight: bold; text-align:right;background-color:#FFEEAA;\">\n+198 </td>, <td style=\"font-weight: bold; text-align:right;\">\n123 </td>, <td style=\"font-weight: bold; text-align:right;background-color:red; color:white\">+11 </td>, <td style=\"text-align:right;font-weight:bold;\">\n2,528 </td>, <td style=\"font-weight: bold; text-align:right\">1,630</td>, <td style=\"font-weight: bold; text-align:right\">59</td>, <td style=\"text-align:right;font-weight:bold;\">\n67,869 </td>, <td style=\"font-weight: bold; text-align:right\">32,435</td>, <td style=\"font-weight: bold; text-align:right\">3,255 </td>, <td style=\"font-weight: bold; text-align:right;background-color:#FFEEAA;\">\n+48 </td>, <td style=\"font-weight: bold; text-align:right;\">\n59 </td>, <td style=\"font-weight: bold; text-align:right;\"> </td>, <td style=\"text-align:right;font-weight:bold;\">\n1,891 </td>, <td style=\"font-weight: bold; text-align:right\">1,088</td>, <td style=\"font-weight: bold; text-align:right\">20</td>, <td style=\"text-align:right;font-weight:bold;\">\n48,379 </td>, <td style=\"font-weight: bold; text-align:right\">16,177</td>, <td style=\"font-weight: bold; text-align:right\">2,510 </td>, <td style=\"font-weight: bold; text-align:right;background-color:#FFEEAA;\">\n+64 </td>, <td style=\"font-weight: bold; text-align:right;\">\n103 </td>, <td style=\"font-weight: bold; text-align:right;background-color:red; color:white\">+2 </td>, <td style=\"text-align:right;font-weight:bold;\">\n1,547 </td>, <td style=\"font-weight: bold; text-align:right\">615</td>, <td style=\"font-weight: bold; text-align:right\">25</td>, <td style=\"text-align:right;font-weight:bold;\">\n56,032 </td>, <td style=\"font-weight: bold; text-align:right\">13,727</td>, <td style=\"font-weight: bold; text-align:right\">2,449 </td>, <td style=\"font-weight: bold; text-align:right;background-color:#FFEEAA;\">\n+76 </td>, <td style=\"font-weight: bold; text-align:right;\">\n17 </td>, <td style=\"font-weight: bold; text-align:right;background-color:red; color:white\">+4 </td>, <td style=\"text-align:right;font-weight:bold;\">\n859 </td>, <td style=\"font-weight: bold; text-align:right\">2,834</td>, <td style=\"font-weight: bold; text-align:right\">20</td>, <td style=\"text-align:right;font-weight:bold;\">\n17,208 </td>, <td style=\"font-weight: bold; text-align:right\">19,910</td>, <td style=\"font-weight: bold; text-align:right\">2,054 </td>, <td style=\"font-weight: bold; text-align:right;\">\n</td>, <td style=\"font-weight: bold; text-align:right;\">\n66 </td>, <td style=\"font-weight: bold; text-align:right;\"> </td>, <td style=\"text-align:right;font-weight:bold;\">\n1,008 </td>, <td style=\"font-weight: bold; text-align:right\">1,529</td>, <td style=\"font-weight: bold; text-align:right\">49</td>, <td style=\"text-align:right;font-weight:bold;\">\n21,921 </td>, <td style=\"font-weight: bold; text-align:right\">16,315</td>, <td style=\"font-weight: bold; text-align:right\">1,984 </td>, <td style=\"font-weight: bold; text-align:right;\">\n</td>, <td style=\"font-weight: bold; text-align:right;\">\n60 </td>, <td style=\"font-weight: bold; text-align:right;\"> </td>, <td style=\"text-align:right;font-weight:bold;\">\n837 </td>, <td style=\"font-weight: bold; text-align:right\">1,175</td>, <td style=\"font-weight: bold; text-align:right\">36</td>, <td style=\"text-align:right;font-weight:bold;\">\n28,240 </td>, <td style=\"font-weight: bold; text-align:right\">16,732</td>, <td style=\"font-weight: bold; text-align:right\">1,118 </td>, <td style=\"font-weight: bold; text-align:right;background-color:#FFEEAA;\">\n+9 </td>, <td style=\"font-weight: bold; text-align:right;\">\n41 </td>, <td style=\"font-weight: bold; text-align:right;background-color:red; color:white\">+1 </td>, <td style=\"text-align:right;font-weight:bold;\">\n596 </td>, <td style=\"font-weight: bold; text-align:right\">611</td>, <td style=\"font-weight: bold; text-align:right\">22</td>, <td style=\"text-align:right;font-weight:bold;\">\n44,541 </td>, <td style=\"font-weight: bold; text-align:right\">24,352</td>, <td style=\"font-weight: bold; text-align:right\">1,095 </td>, <td style=\"font-weight: bold; text-align:right;background-color:#FFEEAA;\">\n+39 </td>, <td style=\"font-weight: bold; text-align:right;\">\n53 </td>, <td style=\"font-weight: bold; text-align:right;background-color:red; color:white\">+1 </td>, <td style=\"text-align:right;font-weight:bold;\">\n411 </td>, <td style=\"font-weight: bold; text-align:right\">822</td>, <td style=\"font-weight: bold; text-align:right\">40</td>, <td style=\"text-align:right;font-weight:bold;\">\n20,641 </td>, <td style=\"font-weight: bold; text-align:right\">15,487</td>, <td style=\"font-weight: bold; text-align:right\">1,067 </td>, <td style=\"font-weight: bold; text-align:right;background-color:#FFEEAA;\">\n+34 </td>, <td style=\"font-weight: bold; text-align:right;\">\n19 </td>, <td style=\"font-weight: bold; text-align:right;\"> </td>, <td style=\"text-align:right;font-weight:bold;\">\n590 </td>, <td style=\"font-weight: bold; text-align:right\">1,419</td>, <td style=\"font-weight: bold; text-align:right\">25</td>, <td style=\"text-align:right;font-weight:bold;\">\n27,460 </td>, <td style=\"font-weight: bold; text-align:right\">36,506</td>, <td style=\"font-weight: bold; text-align:right\">866 </td>, <td style=\"font-weight: bold; text-align:right;background-color:#FFEEAA;\">\n+4 </td>, <td style=\"font-weight: bold; text-align:right;\">\n49 </td>, <td style=\"font-weight: bold; text-align:right;background-color:red; color:white\">+2 </td>, <td style=\"text-align:right;font-weight:bold;\">\n817 </td>, <td style=\"font-weight: bold; text-align:right\">1,386</td>, <td style=\"font-weight: bold; text-align:right\">78</td>, <td style=\"text-align:right;font-weight:bold;\">\n15,652 </td>, <td style=\"font-weight: bold; text-align:right\">25,044</td>, <td style=\"font-weight: bold; text-align:right\">618 </td>, <td style=\"font-weight: bold; text-align:right;background-color:#FFEEAA;\">\n+5 </td>, <td style=\"font-weight: bold; text-align:right;\">\n16 </td>, <td style=\"font-weight: bold; text-align:right;\"> </td>, <td style=\"text-align:right;font-weight:bold;\">\n76 </td>, <td style=\"font-weight: bold; text-align:right\">435</td>, <td style=\"font-weight: bold; text-align:right\">11</td>, <td style=\"text-align:right;font-weight:bold;\">\n29,862 </td>, <td style=\"font-weight: bold; text-align:right\">21,000</td>, <td style=\"font-weight: bold; text-align:right\">559 </td>, <td style=\"font-weight: bold; text-align:right;background-color:#FFEEAA;\">\n+15 </td>, <td style=\"font-weight: bold; text-align:right;\">\n7 </td>, <td style=\"font-weight: bold; text-align:right;\"> </td>, <td style=\"text-align:right;font-weight:bold;\">\n181 </td>, <td style=\"font-weight: bold; text-align:right\">961</td>, <td style=\"font-weight: bold; text-align:right\">12</td>, <td style=\"text-align:right;font-weight:bold;\">\n9,306 </td>, <td style=\"font-weight: bold; text-align:right\">15,994</td>, <td style=\"font-weight: bold; text-align:right\">453 </td>, <td style=\"font-weight: bold; text-align:right;background-color:#FFEEAA;\">\n+2 </td>, <td style=\"font-weight: bold; text-align:right;\">\n16 </td>, <td style=\"font-weight: bold; text-align:right;\"> </td>, <td style=\"text-align:right;font-weight:bold;\">\n45 </td>, <td style=\"font-weight: bold; text-align:right\">435</td>, <td style=\"font-weight: bold; text-align:right\">15</td>, <td style=\"text-align:right;font-weight:bold;\">\n13,914 </td>, <td style=\"font-weight: bold; text-align:right\">13,357</td>, <td style=\"font-weight: bold; text-align:right\">355 </td>, <td style=\"font-weight: bold; text-align:right;\">\n</td>, <td style=\"font-weight: bold; text-align:right;\">\n9 </td>, <td style=\"font-weight: bold; text-align:right;\"> </td>, <td style=\"text-align:right;font-weight:bold;\">\n94 </td>, <td style=\"font-weight: bold; text-align:right\">481</td>, <td style=\"font-weight: bold; text-align:right\">12</td>, <td style=\"text-align:right;font-weight:bold;\">\n19,562 </td>, <td style=\"font-weight: bold; text-align:right\">26,488</td>, <td style=\"font-weight: bold; text-align:right\">145 </td>, <td style=\"font-weight: bold; text-align:right;\">\n</td>, <td style=\"font-weight: bold; text-align:right;\">\n5 </td>, <td style=\"font-weight: bold; text-align:right;\"> </td>, <td style=\"text-align:right;font-weight:bold;\">\n10 </td>, <td style=\"font-weight: bold; text-align:right\"></td>, <td style=\"font-weight: bold; text-align:right\"></td>, <td style=\"text-align:right;font-weight:bold;\">\n605\n</td>, <td style=\"font-weight: bold; text-align:right\"></td>, <td style=\"font-weight: bold; text-align:right\">14 </td>, <td style=\"font-weight: bold; text-align:right;\">\n</td>, <td style=\"font-weight: bold; text-align:right;\">\n2 </td>, <td style=\"font-weight: bold; text-align:right;\"> </td>, <td style=\"text-align:right;font-weight:bold;\">\n0 </td>, <td style=\"font-weight: bold; text-align:right\"></td>, <td style=\"font-weight: bold; text-align:right\"></td>, <td style=\"text-align:right;font-weight:bold;\">\n45\n</td>, <td style=\"font-weight: bold; text-align:right\"></td>, <td style=\"font-weight: bold; text-align:right\">1,539 </td>, <td style=\"font-weight: bold; text-align:right;background-color:#FFEEAA;\">\n+106 </td>, <td style=\"font-weight: bold; text-align:right;\">\n92 </td>, <td style=\"font-weight: bold; text-align:right;background-color:red; color:white\">+6 </td>, <td style=\"text-align:right;font-weight:bold;\">\n 1,056 </td>, <td style=\"font-weight: bold; text-align:right\">454</td>, <td style=\"font-weight: bold; text-align:right\">27</td>, <td style=\"text-align:right;font-weight:bold;\">\n13,022\n</td>, <td style=\"font-weight: bold; text-align:right\">3,845</td>, <td style=\"font-weight: bold; text-align:right\">66 </td>, <td style=\"font-weight: bold; text-align:right;background-color:#FFEEAA;\">\n+4 </td>, <td style=\"font-weight: bold; text-align:right;\">\n4 </td>, <td style=\"font-weight: bold; text-align:right;\"> </td>, <td style=\"text-align:right;font-weight:bold;\">\n11 </td>, <td style=\"font-weight: bold; text-align:right\"></td>, <td style=\"font-weight: bold; text-align:right\"></td>, <td style=\"text-align:right;font-weight:bold;\">\n872\n</td>, <td style=\"font-weight: bold; text-align:right\"></td>, <td style=\"font-weight: bold; text-align:right\">8,596 </td>, <td style=\"font-weight: bold; text-align:right;background-color:#FFEEAA;\">\n+322  </td>, <td style=\"font-weight: bold; text-align:right;\">\n494 </td>, <td style=\"font-weight: bold; text-align:right;background-color:red; color:white\">+10 </td>, <td style=\"text-align:right;font-weight:bold;\">\n8,102 </td>, <td style=\"font-weight: bold; text-align:right\"></td>, <td style=\"font-weight: bold; text-align:right\"></td>, <td style=\"text-align:right;font-weight:bold;\">\n95,680\n</td>, <td style=\"font-weight: bold; text-align:right\"></td>, <td style=\"font-weight: bold; text-align:right\">6,962 </td>, <td style=\"font-weight: bold; text-align:right;background-color:#FFEEAA;\">\n+314 </td>, <td style=\"font-weight: bold; text-align:right;\">\n26 </td>, <td style=\"font-weight: bold; text-align:right;\"> </td>, <td style=\"text-align:right;font-weight:bold;\">\n4,829 </td>, <td style=\"font-weight: bold; text-align:right\"></td>, <td style=\"font-weight: bold; text-align:right\"></td>, <td style=\"text-align:right;font-weight:bold;\">\n</td>, <td style=\"font-weight: bold; text-align:right\"></td>, <td style=\"font-weight: bold; text-align:right\">2,041 </td>, <td style=\"font-weight: bold; text-align:right;background-color:#FFEEAA;\">\n+164 </td>, <td style=\"font-weight: bold; text-align:right;\">\n33 </td>, <td style=\"font-weight: bold; text-align:right;background-color:red; color:white\">+2 </td>, <td style=\"text-align:right;font-weight:bold;\">\n1,462 </td>, <td style=\"font-weight: bold; text-align:right\"></td>, <td style=\"font-weight: bold; text-align:right\"></td>, <td style=\"text-align:right;font-weight:bold;\">\n</td>, <td style=\"font-weight: bold; text-align:right\"></td>, <td style=\"font-weight: bold; text-align:right\">1,977 </td>, <td style=\"font-weight: bold; text-align:right;background-color:#FFEEAA;\">\n+104 </td>, <td style=\"font-weight: bold; text-align:right;\">\n62 </td>, <td style=\"font-weight: bold; text-align:right;background-color:red; color:white\">+2 </td>, <td style=\"text-align:right;font-weight:bold;\">\n1,915 </td>, <td style=\"font-weight: bold; text-align:right\"></td>, <td style=\"font-weight: bold; text-align:right\"></td>, <td style=\"text-align:right;font-weight:bold;\">\n10,216\n</td>, <td style=\"font-weight: bold; text-align:right\"></td>, <td style=\"font-weight: bold; text-align:right\">103 </td>, <td style=\"font-weight: bold; text-align:right;\">\n</td>, <td style=\"font-weight: bold; text-align:right;\">\n3 </td>, <td style=\"font-weight: bold; text-align:right;\"> </td>, <td style=\"text-align:right;font-weight:bold;\">\n100 </td>, <td style=\"font-weight: bold; text-align:right\"></td>, <td style=\"font-weight: bold; text-align:right\"></td>, <td style=\"text-align:right;font-weight:bold;\">\n</td>, <td style=\"font-weight: bold; text-align:right\"></td>, <td style=\"font-weight: bold; text-align:right\">3 </td>, <td style=\"font-weight: bold; text-align:right;\">\n</td>, <td style=\"font-weight: bold; text-align:right;\">\n</td>, <td style=\"font-weight: bold; text-align:right;\"> </td>, <td style=\"text-align:right;font-weight:bold;\">\n3 </td>, <td style=\"font-weight: bold; text-align:right\"></td>, <td style=\"font-weight: bold; text-align:right\"></td>, <td style=\"text-align:right;font-weight:bold;\">\n3\n</td>, <td style=\"font-weight: bold; text-align:right\"></td>, <td style=\"font-weight: bold; text-align:right\">46 </td>, <td style=\"font-weight: bold; text-align:right;\">\n</td>, <td style=\"font-weight: bold; text-align:right;\">\n</td>, <td style=\"font-weight: bold; text-align:right;\"> </td>, <td style=\"text-align:right;font-weight:bold;\">\n46 </td>, <td style=\"font-weight: bold; text-align:right\"></td>, <td style=\"font-weight: bold; text-align:right\"></td>, <td style=\"text-align:right;font-weight:bold;\">\n46\n</td>, <td style=\"font-weight: bold; text-align:right\"></td>]\n"
    }
   ],
   "source": [
    "#html by id tag\n",
    "table_data = soup.find(id=\"usa_table_countries_today\")\n",
    "\n",
    "#html by style tags\n",
    "table_data = table_data.find_all(style = [\"font-weight: bold; text-align:right\",\"text-align:right;font-weight:bold;\",\\\n",
    "\"font-weight: bold; text-align:right;\",\"font-weight: bold; text-align:right;background-color:#FFEEAA;\",\"font-weight: bold; text-align:right;background-color:red; color:white\"] )\n",
    "#six_day = table_data.find_all('td')\n",
    "print(table_data)\n",
    "\n",
    "\n",
    "#for loop to strip the tags from the HTML\n",
    "for data in table_data:\n",
    "    \n",
    "    data = data.text\n",
    "    data = data.replace(',', '')\n",
    "    data = data.replace(' ', '')\n",
    "    data = data.strip('\\n')\n",
    "    \n",
    "    state_list.append(data) #stripping the '\\n' from the data"
   ]
  },
  {
   "cell_type": "markdown",
   "metadata": {},
   "source": [
    "# Creating the row and column lists for the dataframe #"
   ]
  },
  {
   "cell_type": "code",
   "execution_count": 43,
   "metadata": {},
   "outputs": [],
   "source": [
    "#list of the states for the dataframe rows\n",
    "#worldometer data are listed from most cases to least, this states variable matches the data \n",
    "#on the site\n",
    "list_of_states = ['New York', 'New Jersey', 'Massachusetts', 'California', 'Pennsylvania', 'Illinois', 'Michigan', 'Florida', 'Louisiana', 'Connecticut', 'Texas', 'Georgia', 'Maryland', 'Ohio\\\n",
    "', 'Indiana', 'Washington', 'Colorado', 'Virginia', 'Tennessee', 'North Carolina', 'Missouri', 'Rhode Island', 'Alabama', 'Arizona', 'Mississippi', 'Wisconsin', 'South Carolina', 'Nevada', 'Iowa\\\n",
    "', 'Utah', 'Kentucky', 'District of Columbia', 'Delaware', 'Oklahoma', 'Minnesota', 'Arkansas', 'Kansas', 'New Mexico', 'Oregon', 'Nebraska', 'South Dakota\\\n",
    "', 'Idaho', 'New Hampshire', 'West Virginia', 'Maine', 'Vermont', 'North Dakota', 'Hawaii', 'Wyoming', 'Montana', 'Alaska']\n",
    "\n",
    "#column list for the dateframe columns\n",
    "list_of_columns = [\"Total_cases\", \"New_cases\", \"Total_deaths\", \"New_deaths\", \"Active_cases\", \"Cases_per_million\", \"Deaths_per_million\", \"Total_tests\", \"Tests_per_million\"]"
   ]
  },
  {
   "cell_type": "code",
   "execution_count": 44,
   "metadata": {},
   "outputs": [],
   "source": [
    "state_list = state_list[:459] #intentially cutting string values off to eliminate US territories and crusie ships in the data\n",
    "\n",
    "df = pd.DataFrame(np.array(state_list).reshape(51,9), index= list_of_states, columns = list_of_columns) #turns the giant list of data into a 51x9 dataframe with the columns and rows listed\n",
    "\n",
    "df.index.name = \"State\" #sets index name"
   ]
  },
  {
   "cell_type": "markdown",
   "metadata": {},
   "source": [
    "# Retrieving the news date and time and stripping tags and characters #"
   ]
  },
  {
   "cell_type": "code",
   "execution_count": 45,
   "metadata": {},
   "outputs": [],
   "source": [
    "news_date = soup.find(style=\"font-size:13px; color:#999; text-align:center\") #find the date and time in GMT time\n",
    "news_date = news_date.text #strip the HTML tags\n",
    "news_date = news_date.strip(\"Last updated: \") # removes the Last Updated part of text\n",
    "\n",
    "\n",
    "#stripping the time string of spaces and colon\n",
    "news_date = news_date.replace(' ', '')\n",
    "news_date = news_date.replace(':', '')"
   ]
  },
  {
   "cell_type": "markdown",
   "metadata": {},
   "source": [
    "# Creating CSV file name and loading date and time from HTML into title #"
   ]
  },
  {
   "cell_type": "code",
   "execution_count": 46,
   "metadata": {},
   "outputs": [],
   "source": [
    "csv_string = \"states - \" + str(news_date) + \".csv\"\n",
    "\n",
    "#dictionary to convert month name to month number of the year\n",
    "\n",
    "month_string_to_number = {\n",
    "    'January': '01',\n",
    "    'February': '02',\n",
    "    'March': '03',\n",
    "    'April':'04',\n",
    "    'May':'05',\n",
    "    'June':'06',\n",
    "    'July':'07',\n",
    "    'August':'08',\n",
    "    'September':'09',\n",
    "    'October':'10',\n",
    "    'November':'11',\n",
    "    'December':'12'\n",
    "    }\n",
    "\n",
    "\n",
    "#pulling date and time info from news_date string\n",
    "month_string = news_date[:-15]\n",
    "month_number = month_string_to_number[month_string]\n",
    "day_string = int(news_date[-15:-13])\n",
    "year_string = news_date[-12:-8]\n",
    "GMTtime_string = int(news_date[-7:-3])\n",
    "ESTtime_string = year_string + \"-\" + month_number + \"-\" + str(day_string)\n",
    "df.insert(0, 'Date', ESTtime_string)"
   ]
  },
  {
   "cell_type": "markdown",
   "metadata": {},
   "source": [
    "# Stripping the final extraneous characters and creating CSV from dataframe #"
   ]
  },
  {
   "cell_type": "code",
   "execution_count": 47,
   "metadata": {},
   "outputs": [],
   "source": [
    "#Strip the plus signs from the \"new\" columns\n",
    "df['New_cases'] = df['New_cases'].str.replace('+', '')\n",
    "df['New_deaths'] = df['New_deaths'].str.replace('+', '')\n",
    "\n",
    "#creating and uploading dataframe to csv file with the name of the date and time\n",
    "\n",
    "df.to_csv(f\"Clean_CSVs/{csv_string}\")"
   ]
  },
  {
   "cell_type": "code",
   "execution_count": 48,
   "metadata": {},
   "outputs": [
    {
     "output_type": "execute_result",
     "data": {
      "text/plain": "                            Date Total_cases New_cases Total_deaths  \\\nState                                                                 \nNew York              2020-04-30      310839      4681        23780   \nNew Jersey            2020-04-30      118652      2388         7228   \nMassachusetts         2020-04-30       62205      1940         3562   \nCalifornia            2020-04-30       52918      2563         2355   \nPennsylvania          2020-04-30       49840      1275         2014   \nIllinois              2020-04-30       47999      2271         2541   \nMichigan              2020-04-30       41379       980         3789   \nFlorida               2020-04-30       33690       497         1268   \nLouisiana             2020-04-30       28455       889          802   \nConnecticut           2020-04-30       28001       341         1905   \nTexas                 2020-04-30       27700       933         2257   \nGeorgia               2020-04-30       26237       586         1131   \nMaryland              2020-04-30       21742       893         1140   \nOhio                  2020-04-30       18027       724          975   \nIndiana               2020-04-30       17835       653         1114   \nWashington            2020-04-30       15846       885          552   \nColorado              2020-04-30       14758                    766   \nVirginia              2020-04-30       14070                    801   \nTennessee             2020-04-30       10746       565          405   \nNorth Carolina        2020-04-30       10735       369          199   \nMissouri              2020-04-30        8621       374          266   \nRhode Island          2020-04-30        7766       190          343   \nAlabama               2020-04-30        7648       446          320   \nArizona               2020-04-30        7145       302          162   \nMississippi           2020-04-30        7019       115          269   \nWisconsin             2020-04-30        6854       334          316   \nSouth Carolina        2020-04-30        6815       246          261   \nNevada                2020-04-30        6095       214          244   \nIowa                  2020-04-30        5136       492          343   \nUtah                  2020-04-30        4998       100          237   \nKentucky              2020-04-30        4734        79          152   \nDistrict of Columbia  2020-04-30        4708       169          240   \nDelaware              2020-04-30        4672       177           46   \nOklahoma              2020-04-30        4323       217          224   \nMinnesota             2020-04-30        4302       463          134   \nArkansas              2020-04-30        3784                     68   \nKansas                2020-04-30        3618       145          222   \nNew Mexico            2020-04-30        3411       198          123   \nOregon                2020-04-30        3255        48           59   \nNebraska              2020-04-30        2510        64          103   \nSouth Dakota          2020-04-30        2449        76           17   \nIdaho                 2020-04-30        2054                     66   \nNew Hampshire         2020-04-30        1984                     60   \nWest Virginia         2020-04-30        1118         9           41   \nMaine                 2020-04-30        1095        39           53   \nVermont               2020-04-30        1067        34           19   \nNorth Dakota          2020-04-30         866         4           49   \nHawaii                2020-04-30         618         5           16   \nWyoming               2020-04-30         559        15            7   \nMontana               2020-04-30         453         2           16   \nAlaska                2020-04-30         355                      9   \n\n                     New_deaths Active_cases Cases_per_million  \\\nState                                                            \nNew York                    306       237654             15844   \nNew Jersey                  458       110153             13359   \nMassachusetts               157        50525              9107   \nCalifornia                  140        49957              4127   \nPennsylvania                 75        44489              1273   \nIllinois                    187        44693              3753   \nMichigan                    119        29248              4156   \nFlorida                      50        31736              1636   \nLouisiana                    53        15146              1020   \nConnecticut                  60         8793              6004   \nTexas                        89        25378              7734   \nGeorgia                      33        25075              2548   \nMaryland                     62        19339              3622   \nOhio                         38        16932              1548   \nIndiana                      49        16707              2687   \nWashington                   30        13190              1883   \nColorado                               13433              2668   \nVirginia                               11418              1929   \nTennessee                    24         9039              1058   \nNorth Carolina                4         5198              1614   \nMissouri                     15         8013              8159   \nRhode Island                  5         6876              1275   \nAlabama                      16         7258              1101   \nArizona                      14         4286              2281   \nMississippi                  14         6730              1443   \nWisconsin                     8         3328              1186   \nSouth Carolina               11         6554              2280   \nNevada                       12         2150              1230   \nIowa                         24         2621               929   \nUtah                                    1856              1710   \nKentucky                      8         3307              4986   \nDistrict of Columbia          5         3346              1060   \nDelaware                      1         2687              1534   \nOklahoma                     19         3439              6316   \nMinnesota                               3367              1479   \nArkansas                                3694              1987   \nKansas                        8          995               923   \nNew Mexico                   11         2528              1630   \nOregon                                  1891              1088   \nNebraska                      2         1547               615   \nSouth Dakota                  4          859              2834   \nIdaho                                   1008              1529   \nNew Hampshire                            837              1175   \nWest Virginia                 1          596               611   \nMaine                         1          411               822   \nVermont                                  590              1419   \nNorth Dakota                  2          817              1386   \nHawaii                                    76               435   \nWyoming                                  181               961   \nMontana                                   45               435   \nAlaska                                    94               481   \n\n                     Deaths_per_million Total_tests Tests_per_million  \nState                                                                  \nNew York                           1212      900636             45908  \nNew Jersey                          814      246934             27802  \nMassachusetts                       522      275647             40357  \nCalifornia                          184      269867             21048  \nPennsylvania                         51      603139             15406  \nIllinois                            199      221365             17306  \nMichigan                            381      177228             17798  \nFlorida                              62      384153             18650  \nLouisiana                            29      330300             11845  \nConnecticut                         408      156568             33572  \nTexas                               630       97133             27121  \nGeorgia                             110      149044             14474  \nMaryland                            190      114359             19049  \nOhio                                 84      133148             11437  \nIndiana                             168       94998             14312  \nWashington                           66       90843             10797  \nColorado                            138       69449             12556  \nVirginia                            110      187800             25746  \nTennessee                            40      128517             12655  \nNorth Carolina                       30      177626             26706  \nMissouri                            252       63710             60297  \nRhode Island                         56       73503             12069  \nAlabama                              46       71786             10334  \nArizona                              52       42667             13621  \nMississippi                          55       87364             17959  \nWisconsin                            55       76248             13195  \nSouth Carolina                       87       66094             22114  \nNevada                               49       56512             11403  \nIowa                                 62       70276             12714  \nUtah                                 81       51761             17709  \nKentucky                            160       21820             22981  \nDistrict of Columbia                 54       56611             12750  \nDelaware                             15      108501             35628  \nOklahoma                            327       20079             29334  \nMinnesota                            46       31626             10873  \nArkansas                             36       25498             13386  \nKansas                               57       61619             15727  \nNew Mexico                           59       67869             32435  \nOregon                               20       48379             16177  \nNebraska                             25       56032             13727  \nSouth Dakota                         20       17208             19910  \nIdaho                                49       21921             16315  \nNew Hampshire                        36       28240             16732  \nWest Virginia                        22       44541             24352  \nMaine                                40       20641             15487  \nVermont                              25       27460             36506  \nNorth Dakota                         78       15652             25044  \nHawaii                               11       29862             21000  \nWyoming                              12        9306             15994  \nMontana                              15       13914             13357  \nAlaska                               12       19562             26488  ",
      "text/html": "<div>\n<style scoped>\n    .dataframe tbody tr th:only-of-type {\n        vertical-align: middle;\n    }\n\n    .dataframe tbody tr th {\n        vertical-align: top;\n    }\n\n    .dataframe thead th {\n        text-align: right;\n    }\n</style>\n<table border=\"1\" class=\"dataframe\">\n  <thead>\n    <tr style=\"text-align: right;\">\n      <th></th>\n      <th>Date</th>\n      <th>Total_cases</th>\n      <th>New_cases</th>\n      <th>Total_deaths</th>\n      <th>New_deaths</th>\n      <th>Active_cases</th>\n      <th>Cases_per_million</th>\n      <th>Deaths_per_million</th>\n      <th>Total_tests</th>\n      <th>Tests_per_million</th>\n    </tr>\n    <tr>\n      <th>State</th>\n      <th></th>\n      <th></th>\n      <th></th>\n      <th></th>\n      <th></th>\n      <th></th>\n      <th></th>\n      <th></th>\n      <th></th>\n      <th></th>\n    </tr>\n  </thead>\n  <tbody>\n    <tr>\n      <th>New York</th>\n      <td>2020-04-30</td>\n      <td>310839</td>\n      <td>4681</td>\n      <td>23780</td>\n      <td>306</td>\n      <td>237654</td>\n      <td>15844</td>\n      <td>1212</td>\n      <td>900636</td>\n      <td>45908</td>\n    </tr>\n    <tr>\n      <th>New Jersey</th>\n      <td>2020-04-30</td>\n      <td>118652</td>\n      <td>2388</td>\n      <td>7228</td>\n      <td>458</td>\n      <td>110153</td>\n      <td>13359</td>\n      <td>814</td>\n      <td>246934</td>\n      <td>27802</td>\n    </tr>\n    <tr>\n      <th>Massachusetts</th>\n      <td>2020-04-30</td>\n      <td>62205</td>\n      <td>1940</td>\n      <td>3562</td>\n      <td>157</td>\n      <td>50525</td>\n      <td>9107</td>\n      <td>522</td>\n      <td>275647</td>\n      <td>40357</td>\n    </tr>\n    <tr>\n      <th>California</th>\n      <td>2020-04-30</td>\n      <td>52918</td>\n      <td>2563</td>\n      <td>2355</td>\n      <td>140</td>\n      <td>49957</td>\n      <td>4127</td>\n      <td>184</td>\n      <td>269867</td>\n      <td>21048</td>\n    </tr>\n    <tr>\n      <th>Pennsylvania</th>\n      <td>2020-04-30</td>\n      <td>49840</td>\n      <td>1275</td>\n      <td>2014</td>\n      <td>75</td>\n      <td>44489</td>\n      <td>1273</td>\n      <td>51</td>\n      <td>603139</td>\n      <td>15406</td>\n    </tr>\n    <tr>\n      <th>Illinois</th>\n      <td>2020-04-30</td>\n      <td>47999</td>\n      <td>2271</td>\n      <td>2541</td>\n      <td>187</td>\n      <td>44693</td>\n      <td>3753</td>\n      <td>199</td>\n      <td>221365</td>\n      <td>17306</td>\n    </tr>\n    <tr>\n      <th>Michigan</th>\n      <td>2020-04-30</td>\n      <td>41379</td>\n      <td>980</td>\n      <td>3789</td>\n      <td>119</td>\n      <td>29248</td>\n      <td>4156</td>\n      <td>381</td>\n      <td>177228</td>\n      <td>17798</td>\n    </tr>\n    <tr>\n      <th>Florida</th>\n      <td>2020-04-30</td>\n      <td>33690</td>\n      <td>497</td>\n      <td>1268</td>\n      <td>50</td>\n      <td>31736</td>\n      <td>1636</td>\n      <td>62</td>\n      <td>384153</td>\n      <td>18650</td>\n    </tr>\n    <tr>\n      <th>Louisiana</th>\n      <td>2020-04-30</td>\n      <td>28455</td>\n      <td>889</td>\n      <td>802</td>\n      <td>53</td>\n      <td>15146</td>\n      <td>1020</td>\n      <td>29</td>\n      <td>330300</td>\n      <td>11845</td>\n    </tr>\n    <tr>\n      <th>Connecticut</th>\n      <td>2020-04-30</td>\n      <td>28001</td>\n      <td>341</td>\n      <td>1905</td>\n      <td>60</td>\n      <td>8793</td>\n      <td>6004</td>\n      <td>408</td>\n      <td>156568</td>\n      <td>33572</td>\n    </tr>\n    <tr>\n      <th>Texas</th>\n      <td>2020-04-30</td>\n      <td>27700</td>\n      <td>933</td>\n      <td>2257</td>\n      <td>89</td>\n      <td>25378</td>\n      <td>7734</td>\n      <td>630</td>\n      <td>97133</td>\n      <td>27121</td>\n    </tr>\n    <tr>\n      <th>Georgia</th>\n      <td>2020-04-30</td>\n      <td>26237</td>\n      <td>586</td>\n      <td>1131</td>\n      <td>33</td>\n      <td>25075</td>\n      <td>2548</td>\n      <td>110</td>\n      <td>149044</td>\n      <td>14474</td>\n    </tr>\n    <tr>\n      <th>Maryland</th>\n      <td>2020-04-30</td>\n      <td>21742</td>\n      <td>893</td>\n      <td>1140</td>\n      <td>62</td>\n      <td>19339</td>\n      <td>3622</td>\n      <td>190</td>\n      <td>114359</td>\n      <td>19049</td>\n    </tr>\n    <tr>\n      <th>Ohio</th>\n      <td>2020-04-30</td>\n      <td>18027</td>\n      <td>724</td>\n      <td>975</td>\n      <td>38</td>\n      <td>16932</td>\n      <td>1548</td>\n      <td>84</td>\n      <td>133148</td>\n      <td>11437</td>\n    </tr>\n    <tr>\n      <th>Indiana</th>\n      <td>2020-04-30</td>\n      <td>17835</td>\n      <td>653</td>\n      <td>1114</td>\n      <td>49</td>\n      <td>16707</td>\n      <td>2687</td>\n      <td>168</td>\n      <td>94998</td>\n      <td>14312</td>\n    </tr>\n    <tr>\n      <th>Washington</th>\n      <td>2020-04-30</td>\n      <td>15846</td>\n      <td>885</td>\n      <td>552</td>\n      <td>30</td>\n      <td>13190</td>\n      <td>1883</td>\n      <td>66</td>\n      <td>90843</td>\n      <td>10797</td>\n    </tr>\n    <tr>\n      <th>Colorado</th>\n      <td>2020-04-30</td>\n      <td>14758</td>\n      <td></td>\n      <td>766</td>\n      <td></td>\n      <td>13433</td>\n      <td>2668</td>\n      <td>138</td>\n      <td>69449</td>\n      <td>12556</td>\n    </tr>\n    <tr>\n      <th>Virginia</th>\n      <td>2020-04-30</td>\n      <td>14070</td>\n      <td></td>\n      <td>801</td>\n      <td></td>\n      <td>11418</td>\n      <td>1929</td>\n      <td>110</td>\n      <td>187800</td>\n      <td>25746</td>\n    </tr>\n    <tr>\n      <th>Tennessee</th>\n      <td>2020-04-30</td>\n      <td>10746</td>\n      <td>565</td>\n      <td>405</td>\n      <td>24</td>\n      <td>9039</td>\n      <td>1058</td>\n      <td>40</td>\n      <td>128517</td>\n      <td>12655</td>\n    </tr>\n    <tr>\n      <th>North Carolina</th>\n      <td>2020-04-30</td>\n      <td>10735</td>\n      <td>369</td>\n      <td>199</td>\n      <td>4</td>\n      <td>5198</td>\n      <td>1614</td>\n      <td>30</td>\n      <td>177626</td>\n      <td>26706</td>\n    </tr>\n    <tr>\n      <th>Missouri</th>\n      <td>2020-04-30</td>\n      <td>8621</td>\n      <td>374</td>\n      <td>266</td>\n      <td>15</td>\n      <td>8013</td>\n      <td>8159</td>\n      <td>252</td>\n      <td>63710</td>\n      <td>60297</td>\n    </tr>\n    <tr>\n      <th>Rhode Island</th>\n      <td>2020-04-30</td>\n      <td>7766</td>\n      <td>190</td>\n      <td>343</td>\n      <td>5</td>\n      <td>6876</td>\n      <td>1275</td>\n      <td>56</td>\n      <td>73503</td>\n      <td>12069</td>\n    </tr>\n    <tr>\n      <th>Alabama</th>\n      <td>2020-04-30</td>\n      <td>7648</td>\n      <td>446</td>\n      <td>320</td>\n      <td>16</td>\n      <td>7258</td>\n      <td>1101</td>\n      <td>46</td>\n      <td>71786</td>\n      <td>10334</td>\n    </tr>\n    <tr>\n      <th>Arizona</th>\n      <td>2020-04-30</td>\n      <td>7145</td>\n      <td>302</td>\n      <td>162</td>\n      <td>14</td>\n      <td>4286</td>\n      <td>2281</td>\n      <td>52</td>\n      <td>42667</td>\n      <td>13621</td>\n    </tr>\n    <tr>\n      <th>Mississippi</th>\n      <td>2020-04-30</td>\n      <td>7019</td>\n      <td>115</td>\n      <td>269</td>\n      <td>14</td>\n      <td>6730</td>\n      <td>1443</td>\n      <td>55</td>\n      <td>87364</td>\n      <td>17959</td>\n    </tr>\n    <tr>\n      <th>Wisconsin</th>\n      <td>2020-04-30</td>\n      <td>6854</td>\n      <td>334</td>\n      <td>316</td>\n      <td>8</td>\n      <td>3328</td>\n      <td>1186</td>\n      <td>55</td>\n      <td>76248</td>\n      <td>13195</td>\n    </tr>\n    <tr>\n      <th>South Carolina</th>\n      <td>2020-04-30</td>\n      <td>6815</td>\n      <td>246</td>\n      <td>261</td>\n      <td>11</td>\n      <td>6554</td>\n      <td>2280</td>\n      <td>87</td>\n      <td>66094</td>\n      <td>22114</td>\n    </tr>\n    <tr>\n      <th>Nevada</th>\n      <td>2020-04-30</td>\n      <td>6095</td>\n      <td>214</td>\n      <td>244</td>\n      <td>12</td>\n      <td>2150</td>\n      <td>1230</td>\n      <td>49</td>\n      <td>56512</td>\n      <td>11403</td>\n    </tr>\n    <tr>\n      <th>Iowa</th>\n      <td>2020-04-30</td>\n      <td>5136</td>\n      <td>492</td>\n      <td>343</td>\n      <td>24</td>\n      <td>2621</td>\n      <td>929</td>\n      <td>62</td>\n      <td>70276</td>\n      <td>12714</td>\n    </tr>\n    <tr>\n      <th>Utah</th>\n      <td>2020-04-30</td>\n      <td>4998</td>\n      <td>100</td>\n      <td>237</td>\n      <td></td>\n      <td>1856</td>\n      <td>1710</td>\n      <td>81</td>\n      <td>51761</td>\n      <td>17709</td>\n    </tr>\n    <tr>\n      <th>Kentucky</th>\n      <td>2020-04-30</td>\n      <td>4734</td>\n      <td>79</td>\n      <td>152</td>\n      <td>8</td>\n      <td>3307</td>\n      <td>4986</td>\n      <td>160</td>\n      <td>21820</td>\n      <td>22981</td>\n    </tr>\n    <tr>\n      <th>District of Columbia</th>\n      <td>2020-04-30</td>\n      <td>4708</td>\n      <td>169</td>\n      <td>240</td>\n      <td>5</td>\n      <td>3346</td>\n      <td>1060</td>\n      <td>54</td>\n      <td>56611</td>\n      <td>12750</td>\n    </tr>\n    <tr>\n      <th>Delaware</th>\n      <td>2020-04-30</td>\n      <td>4672</td>\n      <td>177</td>\n      <td>46</td>\n      <td>1</td>\n      <td>2687</td>\n      <td>1534</td>\n      <td>15</td>\n      <td>108501</td>\n      <td>35628</td>\n    </tr>\n    <tr>\n      <th>Oklahoma</th>\n      <td>2020-04-30</td>\n      <td>4323</td>\n      <td>217</td>\n      <td>224</td>\n      <td>19</td>\n      <td>3439</td>\n      <td>6316</td>\n      <td>327</td>\n      <td>20079</td>\n      <td>29334</td>\n    </tr>\n    <tr>\n      <th>Minnesota</th>\n      <td>2020-04-30</td>\n      <td>4302</td>\n      <td>463</td>\n      <td>134</td>\n      <td></td>\n      <td>3367</td>\n      <td>1479</td>\n      <td>46</td>\n      <td>31626</td>\n      <td>10873</td>\n    </tr>\n    <tr>\n      <th>Arkansas</th>\n      <td>2020-04-30</td>\n      <td>3784</td>\n      <td></td>\n      <td>68</td>\n      <td></td>\n      <td>3694</td>\n      <td>1987</td>\n      <td>36</td>\n      <td>25498</td>\n      <td>13386</td>\n    </tr>\n    <tr>\n      <th>Kansas</th>\n      <td>2020-04-30</td>\n      <td>3618</td>\n      <td>145</td>\n      <td>222</td>\n      <td>8</td>\n      <td>995</td>\n      <td>923</td>\n      <td>57</td>\n      <td>61619</td>\n      <td>15727</td>\n    </tr>\n    <tr>\n      <th>New Mexico</th>\n      <td>2020-04-30</td>\n      <td>3411</td>\n      <td>198</td>\n      <td>123</td>\n      <td>11</td>\n      <td>2528</td>\n      <td>1630</td>\n      <td>59</td>\n      <td>67869</td>\n      <td>32435</td>\n    </tr>\n    <tr>\n      <th>Oregon</th>\n      <td>2020-04-30</td>\n      <td>3255</td>\n      <td>48</td>\n      <td>59</td>\n      <td></td>\n      <td>1891</td>\n      <td>1088</td>\n      <td>20</td>\n      <td>48379</td>\n      <td>16177</td>\n    </tr>\n    <tr>\n      <th>Nebraska</th>\n      <td>2020-04-30</td>\n      <td>2510</td>\n      <td>64</td>\n      <td>103</td>\n      <td>2</td>\n      <td>1547</td>\n      <td>615</td>\n      <td>25</td>\n      <td>56032</td>\n      <td>13727</td>\n    </tr>\n    <tr>\n      <th>South Dakota</th>\n      <td>2020-04-30</td>\n      <td>2449</td>\n      <td>76</td>\n      <td>17</td>\n      <td>4</td>\n      <td>859</td>\n      <td>2834</td>\n      <td>20</td>\n      <td>17208</td>\n      <td>19910</td>\n    </tr>\n    <tr>\n      <th>Idaho</th>\n      <td>2020-04-30</td>\n      <td>2054</td>\n      <td></td>\n      <td>66</td>\n      <td></td>\n      <td>1008</td>\n      <td>1529</td>\n      <td>49</td>\n      <td>21921</td>\n      <td>16315</td>\n    </tr>\n    <tr>\n      <th>New Hampshire</th>\n      <td>2020-04-30</td>\n      <td>1984</td>\n      <td></td>\n      <td>60</td>\n      <td></td>\n      <td>837</td>\n      <td>1175</td>\n      <td>36</td>\n      <td>28240</td>\n      <td>16732</td>\n    </tr>\n    <tr>\n      <th>West Virginia</th>\n      <td>2020-04-30</td>\n      <td>1118</td>\n      <td>9</td>\n      <td>41</td>\n      <td>1</td>\n      <td>596</td>\n      <td>611</td>\n      <td>22</td>\n      <td>44541</td>\n      <td>24352</td>\n    </tr>\n    <tr>\n      <th>Maine</th>\n      <td>2020-04-30</td>\n      <td>1095</td>\n      <td>39</td>\n      <td>53</td>\n      <td>1</td>\n      <td>411</td>\n      <td>822</td>\n      <td>40</td>\n      <td>20641</td>\n      <td>15487</td>\n    </tr>\n    <tr>\n      <th>Vermont</th>\n      <td>2020-04-30</td>\n      <td>1067</td>\n      <td>34</td>\n      <td>19</td>\n      <td></td>\n      <td>590</td>\n      <td>1419</td>\n      <td>25</td>\n      <td>27460</td>\n      <td>36506</td>\n    </tr>\n    <tr>\n      <th>North Dakota</th>\n      <td>2020-04-30</td>\n      <td>866</td>\n      <td>4</td>\n      <td>49</td>\n      <td>2</td>\n      <td>817</td>\n      <td>1386</td>\n      <td>78</td>\n      <td>15652</td>\n      <td>25044</td>\n    </tr>\n    <tr>\n      <th>Hawaii</th>\n      <td>2020-04-30</td>\n      <td>618</td>\n      <td>5</td>\n      <td>16</td>\n      <td></td>\n      <td>76</td>\n      <td>435</td>\n      <td>11</td>\n      <td>29862</td>\n      <td>21000</td>\n    </tr>\n    <tr>\n      <th>Wyoming</th>\n      <td>2020-04-30</td>\n      <td>559</td>\n      <td>15</td>\n      <td>7</td>\n      <td></td>\n      <td>181</td>\n      <td>961</td>\n      <td>12</td>\n      <td>9306</td>\n      <td>15994</td>\n    </tr>\n    <tr>\n      <th>Montana</th>\n      <td>2020-04-30</td>\n      <td>453</td>\n      <td>2</td>\n      <td>16</td>\n      <td></td>\n      <td>45</td>\n      <td>435</td>\n      <td>15</td>\n      <td>13914</td>\n      <td>13357</td>\n    </tr>\n    <tr>\n      <th>Alaska</th>\n      <td>2020-04-30</td>\n      <td>355</td>\n      <td></td>\n      <td>9</td>\n      <td></td>\n      <td>94</td>\n      <td>481</td>\n      <td>12</td>\n      <td>19562</td>\n      <td>26488</td>\n    </tr>\n  </tbody>\n</table>\n</div>"
     },
     "metadata": {},
     "execution_count": 48
    }
   ],
   "source": [
    "df"
   ]
  },
  {
   "cell_type": "code",
   "execution_count": null,
   "metadata": {},
   "outputs": [],
   "source": []
  }
 ],
 "metadata": {
  "file_extension": ".py",
  "kernelspec": {
   "display_name": "Python 3.7.7 64-bit ('PythonData': conda)",
   "language": "python",
   "name": "python37764bitpythondataconda58c3617d3eed445b80043e5831324c4d"
  },
  "language_info": {
   "codemirror_mode": {
    "name": "ipython",
    "version": 3
   },
   "file_extension": ".py",
   "mimetype": "text/x-python",
   "name": "python",
   "nbconvert_exporter": "python",
   "pygments_lexer": "ipython3",
   "version": "3.7.7-final"
  },
  "mimetype": "text/x-python",
  "name": "python",
  "npconvert_exporter": "python",
  "pygments_lexer": "ipython3",
  "version": 3
 },
 "nbformat": 4,
 "nbformat_minor": 2
}