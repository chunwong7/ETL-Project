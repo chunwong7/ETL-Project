{
 "cells": [
  {
   "cell_type": "code",
   "execution_count": 1,
   "metadata": {},
   "outputs": [],
   "source": [
    "import pandas as pd \n",
    "import csv  "
   ]
  },
  {
   "cell_type": "markdown",
   "metadata": {},
   "source": [
    "# Import Kaggle CSV With Cases & Deaths By State #"
   ]
  },
  {
   "cell_type": "code",
   "execution_count": 2,
   "metadata": {},
   "outputs": [
    {
     "output_type": "execute_result",
     "data": {
      "text/plain": "   UID iso2 iso3  code3  FIPS Admin2            Province_State Country_Region  \\\n0   16   AS  ASM     16  60.0    NaN            American Samoa             US   \n1  316   GU  GUM    316  66.0    NaN                      Guam             US   \n2  580   MP  MNP    580  69.0    NaN  Northern Mariana Islands             US   \n3  630   PR  PRI    630  72.0    NaN               Puerto Rico             US   \n4  850   VI  VIR    850  78.0    NaN            Virgin Islands             US   \n\n       Lat     Long_                  Combined_Key     Date  Confirmed  Deaths  \n0 -14.2710 -170.1320            American Samoa, US  1/22/20          0       0  \n1  13.4443  144.7937                      Guam, US  1/22/20          0       0  \n2  15.0979  145.6739  Northern Mariana Islands, US  1/22/20          0       0  \n3  18.2208  -66.5901               Puerto Rico, US  1/22/20          0       0  \n4  18.3358  -64.8963            Virgin Islands, US  1/22/20          0       0  ",
      "text/html": "<div>\n<style scoped>\n    .dataframe tbody tr th:only-of-type {\n        vertical-align: middle;\n    }\n\n    .dataframe tbody tr th {\n        vertical-align: top;\n    }\n\n    .dataframe thead th {\n        text-align: right;\n    }\n</style>\n<table border=\"1\" class=\"dataframe\">\n  <thead>\n    <tr style=\"text-align: right;\">\n      <th></th>\n      <th>UID</th>\n      <th>iso2</th>\n      <th>iso3</th>\n      <th>code3</th>\n      <th>FIPS</th>\n      <th>Admin2</th>\n      <th>Province_State</th>\n      <th>Country_Region</th>\n      <th>Lat</th>\n      <th>Long_</th>\n      <th>Combined_Key</th>\n      <th>Date</th>\n      <th>Confirmed</th>\n      <th>Deaths</th>\n    </tr>\n  </thead>\n  <tbody>\n    <tr>\n      <th>0</th>\n      <td>16</td>\n      <td>AS</td>\n      <td>ASM</td>\n      <td>16</td>\n      <td>60.0</td>\n      <td>NaN</td>\n      <td>American Samoa</td>\n      <td>US</td>\n      <td>-14.2710</td>\n      <td>-170.1320</td>\n      <td>American Samoa, US</td>\n      <td>1/22/20</td>\n      <td>0</td>\n      <td>0</td>\n    </tr>\n    <tr>\n      <th>1</th>\n      <td>316</td>\n      <td>GU</td>\n      <td>GUM</td>\n      <td>316</td>\n      <td>66.0</td>\n      <td>NaN</td>\n      <td>Guam</td>\n      <td>US</td>\n      <td>13.4443</td>\n      <td>144.7937</td>\n      <td>Guam, US</td>\n      <td>1/22/20</td>\n      <td>0</td>\n      <td>0</td>\n    </tr>\n    <tr>\n      <th>2</th>\n      <td>580</td>\n      <td>MP</td>\n      <td>MNP</td>\n      <td>580</td>\n      <td>69.0</td>\n      <td>NaN</td>\n      <td>Northern Mariana Islands</td>\n      <td>US</td>\n      <td>15.0979</td>\n      <td>145.6739</td>\n      <td>Northern Mariana Islands, US</td>\n      <td>1/22/20</td>\n      <td>0</td>\n      <td>0</td>\n    </tr>\n    <tr>\n      <th>3</th>\n      <td>630</td>\n      <td>PR</td>\n      <td>PRI</td>\n      <td>630</td>\n      <td>72.0</td>\n      <td>NaN</td>\n      <td>Puerto Rico</td>\n      <td>US</td>\n      <td>18.2208</td>\n      <td>-66.5901</td>\n      <td>Puerto Rico, US</td>\n      <td>1/22/20</td>\n      <td>0</td>\n      <td>0</td>\n    </tr>\n    <tr>\n      <th>4</th>\n      <td>850</td>\n      <td>VI</td>\n      <td>VIR</td>\n      <td>850</td>\n      <td>78.0</td>\n      <td>NaN</td>\n      <td>Virgin Islands</td>\n      <td>US</td>\n      <td>18.3358</td>\n      <td>-64.8963</td>\n      <td>Virgin Islands, US</td>\n      <td>1/22/20</td>\n      <td>0</td>\n      <td>0</td>\n    </tr>\n  </tbody>\n</table>\n</div>"
     },
     "metadata": {},
     "execution_count": 2
    }
   ],
   "source": [
    "# Import Kaggle csv file with total cases and deaths by US state and county\n",
    "# Data was downloaded from https://www.kaggle.com/imdevskp/corona-virus-report#usa_county_wise.csv\n",
    "file = \"Raw_Data/usa_county_wise.csv\"\n",
    "kaggle_df = pd.read_csv(file)\n",
    "kaggle_df.head()"
   ]
  },
  {
   "cell_type": "code",
   "execution_count": 3,
   "metadata": {},
   "outputs": [],
   "source": [
    "# Only keep rows for US states (i.e. remove Guam, Virgin Islands, etc.)\n",
    "kaggle_us = kaggle_df.loc[kaggle_df[\"iso2\"] == \"US\",:]"
   ]
  },
  {
   "cell_type": "code",
   "execution_count": 4,
   "metadata": {},
   "outputs": [],
   "source": [
    "# Remove columns not needed (UID, iso2(country/territory), iso3(country/territory), & code3)\n",
    "kaggle_rem_cols = kaggle_us[[\"FIPS\", \"Admin2\",\"Province_State\", \"Lat\", \"Long_\", \"Combined_Key\", \"Date\", \"Confirmed\", \"Deaths\"]]"
   ]
  },
  {
   "cell_type": "code",
   "execution_count": 5,
   "metadata": {},
   "outputs": [
    {
     "output_type": "execute_result",
     "data": {
      "text/plain": "           FIPS    County         State        Lat         Lng  \\\n248895  29055.0  Crawford      Missouri  37.976637  -91.305281   \n122285  36035.0    Fulton      New York  43.113639  -74.417988   \n91753   17027.0   Clinton      Illinois  38.607049  -89.423853   \n96809   46097.0     Miner  South Dakota  44.021979  -97.609922   \n71914    8109.0  Saguache      Colorado  38.080546 -106.282466   \n103168  42029.0   Chester  Pennsylvania  39.972918  -75.747684   \n9793     1047.0    Dallas       Alabama  32.326881  -87.108667   \n119756  48097.0     Cooke         Texas  33.639796  -97.212409   \n86375   31173.0  Thurston      Nebraska  42.157254  -96.541571   \n126581  51139.0      Page      Virginia  38.618075  -78.487972   \n\n                     Combined_Key     Date  Confirmed  Deaths  \n248895     Crawford, Missouri, US   4/7/20          3       0  \n122285       Fulton, New York, US  2/28/20          0       0  \n91753       Clinton, Illinois, US  2/19/20          0       0  \n96809     Miner, South Dakota, US  2/20/20          0       0  \n71914      Saguache, Colorado, US  2/13/20          0       0  \n103168  Chester, Pennsylvania, US  2/22/20          0       0  \n9793          Dallas, Alabama, US  1/25/20          0       0  \n119756           Cooke, Texas, US  2/27/20          0       0  \n86375      Thurston, Nebraska, US  2/17/20          0       0  \n126581         Page, Virginia, US  2/29/20          0       0  ",
      "text/html": "<div>\n<style scoped>\n    .dataframe tbody tr th:only-of-type {\n        vertical-align: middle;\n    }\n\n    .dataframe tbody tr th {\n        vertical-align: top;\n    }\n\n    .dataframe thead th {\n        text-align: right;\n    }\n</style>\n<table border=\"1\" class=\"dataframe\">\n  <thead>\n    <tr style=\"text-align: right;\">\n      <th></th>\n      <th>FIPS</th>\n      <th>County</th>\n      <th>State</th>\n      <th>Lat</th>\n      <th>Lng</th>\n      <th>Combined_Key</th>\n      <th>Date</th>\n      <th>Confirmed</th>\n      <th>Deaths</th>\n    </tr>\n  </thead>\n  <tbody>\n    <tr>\n      <th>248895</th>\n      <td>29055.0</td>\n      <td>Crawford</td>\n      <td>Missouri</td>\n      <td>37.976637</td>\n      <td>-91.305281</td>\n      <td>Crawford, Missouri, US</td>\n      <td>4/7/20</td>\n      <td>3</td>\n      <td>0</td>\n    </tr>\n    <tr>\n      <th>122285</th>\n      <td>36035.0</td>\n      <td>Fulton</td>\n      <td>New York</td>\n      <td>43.113639</td>\n      <td>-74.417988</td>\n      <td>Fulton, New York, US</td>\n      <td>2/28/20</td>\n      <td>0</td>\n      <td>0</td>\n    </tr>\n    <tr>\n      <th>91753</th>\n      <td>17027.0</td>\n      <td>Clinton</td>\n      <td>Illinois</td>\n      <td>38.607049</td>\n      <td>-89.423853</td>\n      <td>Clinton, Illinois, US</td>\n      <td>2/19/20</td>\n      <td>0</td>\n      <td>0</td>\n    </tr>\n    <tr>\n      <th>96809</th>\n      <td>46097.0</td>\n      <td>Miner</td>\n      <td>South Dakota</td>\n      <td>44.021979</td>\n      <td>-97.609922</td>\n      <td>Miner, South Dakota, US</td>\n      <td>2/20/20</td>\n      <td>0</td>\n      <td>0</td>\n    </tr>\n    <tr>\n      <th>71914</th>\n      <td>8109.0</td>\n      <td>Saguache</td>\n      <td>Colorado</td>\n      <td>38.080546</td>\n      <td>-106.282466</td>\n      <td>Saguache, Colorado, US</td>\n      <td>2/13/20</td>\n      <td>0</td>\n      <td>0</td>\n    </tr>\n    <tr>\n      <th>103168</th>\n      <td>42029.0</td>\n      <td>Chester</td>\n      <td>Pennsylvania</td>\n      <td>39.972918</td>\n      <td>-75.747684</td>\n      <td>Chester, Pennsylvania, US</td>\n      <td>2/22/20</td>\n      <td>0</td>\n      <td>0</td>\n    </tr>\n    <tr>\n      <th>9793</th>\n      <td>1047.0</td>\n      <td>Dallas</td>\n      <td>Alabama</td>\n      <td>32.326881</td>\n      <td>-87.108667</td>\n      <td>Dallas, Alabama, US</td>\n      <td>1/25/20</td>\n      <td>0</td>\n      <td>0</td>\n    </tr>\n    <tr>\n      <th>119756</th>\n      <td>48097.0</td>\n      <td>Cooke</td>\n      <td>Texas</td>\n      <td>33.639796</td>\n      <td>-97.212409</td>\n      <td>Cooke, Texas, US</td>\n      <td>2/27/20</td>\n      <td>0</td>\n      <td>0</td>\n    </tr>\n    <tr>\n      <th>86375</th>\n      <td>31173.0</td>\n      <td>Thurston</td>\n      <td>Nebraska</td>\n      <td>42.157254</td>\n      <td>-96.541571</td>\n      <td>Thurston, Nebraska, US</td>\n      <td>2/17/20</td>\n      <td>0</td>\n      <td>0</td>\n    </tr>\n    <tr>\n      <th>126581</th>\n      <td>51139.0</td>\n      <td>Page</td>\n      <td>Virginia</td>\n      <td>38.618075</td>\n      <td>-78.487972</td>\n      <td>Page, Virginia, US</td>\n      <td>2/29/20</td>\n      <td>0</td>\n      <td>0</td>\n    </tr>\n  </tbody>\n</table>\n</div>"
     },
     "metadata": {},
     "execution_count": 5
    }
   ],
   "source": [
    "# Rename columns (Admin 2 to County, Province_State to State, Long_ to Lng)\n",
    "kaggle_renamed = kaggle_rem_cols.rename(columns={\"Admin2\":\"County\", \"Province_State\":\"State\", \"Long_\":\"Lng\"})\n",
    "kaggle_renamed.sample(10)"
   ]
  },
  {
   "cell_type": "code",
   "execution_count": 6,
   "metadata": {},
   "outputs": [
    {
     "output_type": "execute_result",
     "data": {
      "text/plain": "FIPS            285648\nCounty          285824\nState           286000\nLat             286000\nLng             286000\nCombined_Key    286000\nDate            286000\nConfirmed       286000\nDeaths          286000\ndtype: int64"
     },
     "metadata": {},
     "execution_count": 6
    }
   ],
   "source": [
    "# Check for missing values\n",
    "kaggle_renamed.count()"
   ]
  },
  {
   "cell_type": "code",
   "execution_count": 7,
   "metadata": {},
   "outputs": [
    {
     "output_type": "execute_result",
     "data": {
      "text/plain": "FIPS            285472\nCounty          285472\nState           285472\nLat             285472\nLng             285472\nCombined_Key    285472\nDate            285472\nConfirmed       285472\nDeaths          285472\ndtype: int64"
     },
     "metadata": {},
     "execution_count": 7
    }
   ],
   "source": [
    "# Drop rows with missing data\n",
    "kaggle_drop = kaggle_renamed.dropna()\n",
    "kaggle_drop.count()"
   ]
  },
  {
   "cell_type": "code",
   "execution_count": 8,
   "metadata": {},
   "outputs": [
    {
     "output_type": "execute_result",
     "data": {
      "text/plain": "FIPS            float64\nCounty           object\nState            object\nLat             float64\nLng             float64\nCombined_Key     object\nDate             object\nConfirmed         int64\nDeaths            int64\ndtype: object"
     },
     "metadata": {},
     "execution_count": 8
    }
   ],
   "source": [
    "# Check if date column date are strings or date objects\n",
    "kaggle_drop.dtypes"
   ]
  },
  {
   "cell_type": "code",
   "execution_count": 9,
   "metadata": {},
   "outputs": [],
   "source": [
    "# Change dates from strings to datetime objects\n",
    "kaggle_drop['Date'] = pd.to_datetime(kaggle_drop['Date'],format='%m/%d/%y')"
   ]
  },
  {
   "cell_type": "code",
   "execution_count": 10,
   "metadata": {},
   "outputs": [
    {
     "output_type": "execute_result",
     "data": {
      "text/plain": "FIPS                   float64\nCounty                  object\nState                   object\nLat                    float64\nLng                    float64\nCombined_Key            object\nDate            datetime64[ns]\nConfirmed                int64\nDeaths                   int64\ndtype: object"
     },
     "metadata": {},
     "execution_count": 10
    }
   ],
   "source": [
    "# Check that column type changed\n",
    "kaggle_drop.dtypes"
   ]
  },
  {
   "cell_type": "code",
   "execution_count": 11,
   "metadata": {},
   "outputs": [
    {
     "output_type": "execute_result",
     "data": {
      "text/plain": "           FIPS      County    State        Lat         Lng  \\\n286322  56027.0    Niobrara  Wyoming  43.056077 -104.475890   \n286323  56029.0        Park  Wyoming  44.521575 -109.585282   \n286324  56031.0      Platte  Wyoming  42.132991 -104.966331   \n286325  56033.0    Sheridan  Wyoming  44.790489 -106.886239   \n286326  56035.0    Sublette  Wyoming  42.765583 -109.913092   \n286327  56037.0  Sweetwater  Wyoming  41.659439 -108.882788   \n286328  56039.0       Teton  Wyoming  43.935225 -110.589080   \n286329  56041.0       Uinta  Wyoming  41.287818 -110.547578   \n286330  56043.0    Washakie  Wyoming  43.904516 -107.680187   \n286331  56045.0      Weston  Wyoming  43.839612 -104.567488   \n\n                   Combined_Key       Date  Confirmed  Deaths  \n286322    Niobrara, Wyoming, US 2020-04-18          1       0  \n286323        Park, Wyoming, US 2020-04-18          1       0  \n286324      Platte, Wyoming, US 2020-04-18          0       0  \n286325    Sheridan, Wyoming, US 2020-04-18         12       0  \n286326    Sublette, Wyoming, US 2020-04-18          1       0  \n286327  Sweetwater, Wyoming, US 2020-04-18         10       0  \n286328       Teton, Wyoming, US 2020-04-18         62       0  \n286329       Uinta, Wyoming, US 2020-04-18          6       0  \n286330    Washakie, Wyoming, US 2020-04-18          5       0  \n286331      Weston, Wyoming, US 2020-04-18          0       0  ",
      "text/html": "<div>\n<style scoped>\n    .dataframe tbody tr th:only-of-type {\n        vertical-align: middle;\n    }\n\n    .dataframe tbody tr th {\n        vertical-align: top;\n    }\n\n    .dataframe thead th {\n        text-align: right;\n    }\n</style>\n<table border=\"1\" class=\"dataframe\">\n  <thead>\n    <tr style=\"text-align: right;\">\n      <th></th>\n      <th>FIPS</th>\n      <th>County</th>\n      <th>State</th>\n      <th>Lat</th>\n      <th>Lng</th>\n      <th>Combined_Key</th>\n      <th>Date</th>\n      <th>Confirmed</th>\n      <th>Deaths</th>\n    </tr>\n  </thead>\n  <tbody>\n    <tr>\n      <th>286322</th>\n      <td>56027.0</td>\n      <td>Niobrara</td>\n      <td>Wyoming</td>\n      <td>43.056077</td>\n      <td>-104.475890</td>\n      <td>Niobrara, Wyoming, US</td>\n      <td>2020-04-18</td>\n      <td>1</td>\n      <td>0</td>\n    </tr>\n    <tr>\n      <th>286323</th>\n      <td>56029.0</td>\n      <td>Park</td>\n      <td>Wyoming</td>\n      <td>44.521575</td>\n      <td>-109.585282</td>\n      <td>Park, Wyoming, US</td>\n      <td>2020-04-18</td>\n      <td>1</td>\n      <td>0</td>\n    </tr>\n    <tr>\n      <th>286324</th>\n      <td>56031.0</td>\n      <td>Platte</td>\n      <td>Wyoming</td>\n      <td>42.132991</td>\n      <td>-104.966331</td>\n      <td>Platte, Wyoming, US</td>\n      <td>2020-04-18</td>\n      <td>0</td>\n      <td>0</td>\n    </tr>\n    <tr>\n      <th>286325</th>\n      <td>56033.0</td>\n      <td>Sheridan</td>\n      <td>Wyoming</td>\n      <td>44.790489</td>\n      <td>-106.886239</td>\n      <td>Sheridan, Wyoming, US</td>\n      <td>2020-04-18</td>\n      <td>12</td>\n      <td>0</td>\n    </tr>\n    <tr>\n      <th>286326</th>\n      <td>56035.0</td>\n      <td>Sublette</td>\n      <td>Wyoming</td>\n      <td>42.765583</td>\n      <td>-109.913092</td>\n      <td>Sublette, Wyoming, US</td>\n      <td>2020-04-18</td>\n      <td>1</td>\n      <td>0</td>\n    </tr>\n    <tr>\n      <th>286327</th>\n      <td>56037.0</td>\n      <td>Sweetwater</td>\n      <td>Wyoming</td>\n      <td>41.659439</td>\n      <td>-108.882788</td>\n      <td>Sweetwater, Wyoming, US</td>\n      <td>2020-04-18</td>\n      <td>10</td>\n      <td>0</td>\n    </tr>\n    <tr>\n      <th>286328</th>\n      <td>56039.0</td>\n      <td>Teton</td>\n      <td>Wyoming</td>\n      <td>43.935225</td>\n      <td>-110.589080</td>\n      <td>Teton, Wyoming, US</td>\n      <td>2020-04-18</td>\n      <td>62</td>\n      <td>0</td>\n    </tr>\n    <tr>\n      <th>286329</th>\n      <td>56041.0</td>\n      <td>Uinta</td>\n      <td>Wyoming</td>\n      <td>41.287818</td>\n      <td>-110.547578</td>\n      <td>Uinta, Wyoming, US</td>\n      <td>2020-04-18</td>\n      <td>6</td>\n      <td>0</td>\n    </tr>\n    <tr>\n      <th>286330</th>\n      <td>56043.0</td>\n      <td>Washakie</td>\n      <td>Wyoming</td>\n      <td>43.904516</td>\n      <td>-107.680187</td>\n      <td>Washakie, Wyoming, US</td>\n      <td>2020-04-18</td>\n      <td>5</td>\n      <td>0</td>\n    </tr>\n    <tr>\n      <th>286331</th>\n      <td>56045.0</td>\n      <td>Weston</td>\n      <td>Wyoming</td>\n      <td>43.839612</td>\n      <td>-104.567488</td>\n      <td>Weston, Wyoming, US</td>\n      <td>2020-04-18</td>\n      <td>0</td>\n      <td>0</td>\n    </tr>\n  </tbody>\n</table>\n</div>"
     },
     "metadata": {},
     "execution_count": 11
    }
   ],
   "source": [
    "# Remove rows without a county name\n",
    "kaggle_final = kaggle_drop.loc[kaggle_drop[\"County\"] != \"Unassigned\",:]\n",
    "kaggle_final2 = kaggle_final[~kaggle_final[\"County\"].str.contains(\"Out of\")]\n",
    "kaggle_final2.tail(10)"
   ]
  },
  {
   "cell_type": "code",
   "execution_count": 23,
   "metadata": {},
   "outputs": [
    {
     "output_type": "execute_result",
     "data": {
      "text/plain": "     FIPS   County    State        Lat        Lng          Combined_Key  \\\n0  1001.0  Autauga  Alabama  32.539527 -86.644082  Autauga, Alabama, US   \n1  1003.0  Baldwin  Alabama  30.727750 -87.722071  Baldwin, Alabama, US   \n2  1005.0  Barbour  Alabama  31.868263 -85.387129  Barbour, Alabama, US   \n3  1007.0     Bibb  Alabama  32.996421 -87.125115     Bibb, Alabama, US   \n4  1009.0   Blount  Alabama  33.982109 -86.567906   Blount, Alabama, US   \n\n        Date  Confirmed  Deaths  \n0 2020-01-22          0       0  \n1 2020-01-22          0       0  \n2 2020-01-22          0       0  \n3 2020-01-22          0       0  \n4 2020-01-22          0       0  ",
      "text/html": "<div>\n<style scoped>\n    .dataframe tbody tr th:only-of-type {\n        vertical-align: middle;\n    }\n\n    .dataframe tbody tr th {\n        vertical-align: top;\n    }\n\n    .dataframe thead th {\n        text-align: right;\n    }\n</style>\n<table border=\"1\" class=\"dataframe\">\n  <thead>\n    <tr style=\"text-align: right;\">\n      <th></th>\n      <th>FIPS</th>\n      <th>County</th>\n      <th>State</th>\n      <th>Lat</th>\n      <th>Lng</th>\n      <th>Combined_Key</th>\n      <th>Date</th>\n      <th>Confirmed</th>\n      <th>Deaths</th>\n    </tr>\n  </thead>\n  <tbody>\n    <tr>\n      <th>0</th>\n      <td>1001.0</td>\n      <td>Autauga</td>\n      <td>Alabama</td>\n      <td>32.539527</td>\n      <td>-86.644082</td>\n      <td>Autauga, Alabama, US</td>\n      <td>2020-01-22</td>\n      <td>0</td>\n      <td>0</td>\n    </tr>\n    <tr>\n      <th>1</th>\n      <td>1003.0</td>\n      <td>Baldwin</td>\n      <td>Alabama</td>\n      <td>30.727750</td>\n      <td>-87.722071</td>\n      <td>Baldwin, Alabama, US</td>\n      <td>2020-01-22</td>\n      <td>0</td>\n      <td>0</td>\n    </tr>\n    <tr>\n      <th>2</th>\n      <td>1005.0</td>\n      <td>Barbour</td>\n      <td>Alabama</td>\n      <td>31.868263</td>\n      <td>-85.387129</td>\n      <td>Barbour, Alabama, US</td>\n      <td>2020-01-22</td>\n      <td>0</td>\n      <td>0</td>\n    </tr>\n    <tr>\n      <th>3</th>\n      <td>1007.0</td>\n      <td>Bibb</td>\n      <td>Alabama</td>\n      <td>32.996421</td>\n      <td>-87.125115</td>\n      <td>Bibb, Alabama, US</td>\n      <td>2020-01-22</td>\n      <td>0</td>\n      <td>0</td>\n    </tr>\n    <tr>\n      <th>4</th>\n      <td>1009.0</td>\n      <td>Blount</td>\n      <td>Alabama</td>\n      <td>33.982109</td>\n      <td>-86.567906</td>\n      <td>Blount, Alabama, US</td>\n      <td>2020-01-22</td>\n      <td>0</td>\n      <td>0</td>\n    </tr>\n  </tbody>\n</table>\n</div>"
     },
     "metadata": {},
     "execution_count": 23
    }
   ],
   "source": [
    "# Reset index to use as primary key for county table\n",
    "kaggle_final3 = kaggle_final2.reset_index(drop=True)\n",
    "kaggle_final3.head()"
   ]
  },
  {
   "cell_type": "code",
   "execution_count": 25,
   "metadata": {},
   "outputs": [],
   "source": [
    "# Export kaggle df as a csv so it can be imported to postgres\n",
    "kaggle_final3.to_csv(\"county_data.csv\", encoding=\"utf-8\", index=True)"
   ]
  },
  {
   "cell_type": "markdown",
   "metadata": {},
   "source": [
    "# Import CDC CSV With COVID Forecasts By State #"
   ]
  },
  {
   "cell_type": "code",
   "execution_count": 26,
   "metadata": {},
   "outputs": [
    {
     "output_type": "execute_result",
     "data": {
      "text/plain": "     model forecast_date                target target_week_end_date  \\\n1640   YYG     4/20/2020  4 wk ahead cum death            5/16/2020   \n1641   YYG     4/20/2020  1 wk ahead cum death            4/25/2020   \n1642   YYG     4/20/2020  2 wk ahead cum death             5/2/2020   \n1643   YYG     4/20/2020  3 wk ahead cum death             5/9/2020   \n1644   YYG     4/20/2020  4 wk ahead cum death            5/16/2020   \n\n      location_name  point  quantile_0.025  quantile_0.975  \n1640  West Virginia     75            54.0           110.0  \n1641        Wyoming      4             4.0             4.0  \n1642        Wyoming      8             7.0             9.0  \n1643        Wyoming     11            10.0            14.0  \n1644        Wyoming     15            13.0            19.0  ",
      "text/html": "<div>\n<style scoped>\n    .dataframe tbody tr th:only-of-type {\n        vertical-align: middle;\n    }\n\n    .dataframe tbody tr th {\n        vertical-align: top;\n    }\n\n    .dataframe thead th {\n        text-align: right;\n    }\n</style>\n<table border=\"1\" class=\"dataframe\">\n  <thead>\n    <tr style=\"text-align: right;\">\n      <th></th>\n      <th>model</th>\n      <th>forecast_date</th>\n      <th>target</th>\n      <th>target_week_end_date</th>\n      <th>location_name</th>\n      <th>point</th>\n      <th>quantile_0.025</th>\n      <th>quantile_0.975</th>\n    </tr>\n  </thead>\n  <tbody>\n    <tr>\n      <th>1640</th>\n      <td>YYG</td>\n      <td>4/20/2020</td>\n      <td>4 wk ahead cum death</td>\n      <td>5/16/2020</td>\n      <td>West Virginia</td>\n      <td>75</td>\n      <td>54.0</td>\n      <td>110.0</td>\n    </tr>\n    <tr>\n      <th>1641</th>\n      <td>YYG</td>\n      <td>4/20/2020</td>\n      <td>1 wk ahead cum death</td>\n      <td>4/25/2020</td>\n      <td>Wyoming</td>\n      <td>4</td>\n      <td>4.0</td>\n      <td>4.0</td>\n    </tr>\n    <tr>\n      <th>1642</th>\n      <td>YYG</td>\n      <td>4/20/2020</td>\n      <td>2 wk ahead cum death</td>\n      <td>5/2/2020</td>\n      <td>Wyoming</td>\n      <td>8</td>\n      <td>7.0</td>\n      <td>9.0</td>\n    </tr>\n    <tr>\n      <th>1643</th>\n      <td>YYG</td>\n      <td>4/20/2020</td>\n      <td>3 wk ahead cum death</td>\n      <td>5/9/2020</td>\n      <td>Wyoming</td>\n      <td>11</td>\n      <td>10.0</td>\n      <td>14.0</td>\n    </tr>\n    <tr>\n      <th>1644</th>\n      <td>YYG</td>\n      <td>4/20/2020</td>\n      <td>4 wk ahead cum death</td>\n      <td>5/16/2020</td>\n      <td>Wyoming</td>\n      <td>15</td>\n      <td>13.0</td>\n      <td>19.0</td>\n    </tr>\n  </tbody>\n</table>\n</div>"
     },
     "metadata": {},
     "execution_count": 26
    }
   ],
   "source": [
    "# Import csv file with forecast of potential deaths by state\n",
    "# Data was downloaded from https://www.cdc.gov/coronavirus/2019-ncov/covid-data/forecasting-us.html\n",
    "file2 = \"Raw_Data/forecast_data_0420.csv\"\n",
    "forecast_raw = pd.read_csv(file2)\n",
    "forecast_raw.tail()"
   ]
  },
  {
   "cell_type": "code",
   "execution_count": 27,
   "metadata": {},
   "outputs": [
    {
     "output_type": "execute_result",
     "data": {
      "text/plain": "                      model forecast_date                target  \\\n1  CU 40% contact reduction     4/20/2020  1 wk ahead cum death   \n2  CU 40% contact reduction     4/20/2020  1 wk ahead cum death   \n3  CU 40% contact reduction     4/20/2020  1 wk ahead cum death   \n4  CU 40% contact reduction     4/20/2020  1 wk ahead cum death   \n5  CU 40% contact reduction     4/20/2020  1 wk ahead cum death   \n\n  target_week_end_date location_name  point  quantile_0.025  quantile_0.975  \n1            4/25/2020       Alabama    184           157.0           226.0  \n2            4/25/2020        Alaska     15            15.0            18.0  \n3            4/25/2020       Arizona    265           222.0           325.0  \n4            4/25/2020      Arkansas     50            42.0            62.0  \n5            4/25/2020    California   2012          1792.0          2520.0  ",
      "text/html": "<div>\n<style scoped>\n    .dataframe tbody tr th:only-of-type {\n        vertical-align: middle;\n    }\n\n    .dataframe tbody tr th {\n        vertical-align: top;\n    }\n\n    .dataframe thead th {\n        text-align: right;\n    }\n</style>\n<table border=\"1\" class=\"dataframe\">\n  <thead>\n    <tr style=\"text-align: right;\">\n      <th></th>\n      <th>model</th>\n      <th>forecast_date</th>\n      <th>target</th>\n      <th>target_week_end_date</th>\n      <th>location_name</th>\n      <th>point</th>\n      <th>quantile_0.025</th>\n      <th>quantile_0.975</th>\n    </tr>\n  </thead>\n  <tbody>\n    <tr>\n      <th>1</th>\n      <td>CU 40% contact reduction</td>\n      <td>4/20/2020</td>\n      <td>1 wk ahead cum death</td>\n      <td>4/25/2020</td>\n      <td>Alabama</td>\n      <td>184</td>\n      <td>157.0</td>\n      <td>226.0</td>\n    </tr>\n    <tr>\n      <th>2</th>\n      <td>CU 40% contact reduction</td>\n      <td>4/20/2020</td>\n      <td>1 wk ahead cum death</td>\n      <td>4/25/2020</td>\n      <td>Alaska</td>\n      <td>15</td>\n      <td>15.0</td>\n      <td>18.0</td>\n    </tr>\n    <tr>\n      <th>3</th>\n      <td>CU 40% contact reduction</td>\n      <td>4/20/2020</td>\n      <td>1 wk ahead cum death</td>\n      <td>4/25/2020</td>\n      <td>Arizona</td>\n      <td>265</td>\n      <td>222.0</td>\n      <td>325.0</td>\n    </tr>\n    <tr>\n      <th>4</th>\n      <td>CU 40% contact reduction</td>\n      <td>4/20/2020</td>\n      <td>1 wk ahead cum death</td>\n      <td>4/25/2020</td>\n      <td>Arkansas</td>\n      <td>50</td>\n      <td>42.0</td>\n      <td>62.0</td>\n    </tr>\n    <tr>\n      <th>5</th>\n      <td>CU 40% contact reduction</td>\n      <td>4/20/2020</td>\n      <td>1 wk ahead cum death</td>\n      <td>4/25/2020</td>\n      <td>California</td>\n      <td>2012</td>\n      <td>1792.0</td>\n      <td>2520.0</td>\n    </tr>\n  </tbody>\n</table>\n</div>"
     },
     "metadata": {},
     "execution_count": 27
    }
   ],
   "source": [
    "# Only keep rows for states, not whole of US\n",
    "forecast_states = forecast_raw.loc[forecast_raw[\"location_name\"] != \"US\",:]\n",
    "forecast_states.head()"
   ]
  },
  {
   "cell_type": "code",
   "execution_count": 28,
   "metadata": {},
   "outputs": [
    {
     "output_type": "execute_result",
     "data": {
      "text/plain": "model                   1620\nforecast_date           1620\ntarget                  1620\ntarget_week_end_date    1620\nlocation_name           1620\npoint                   1620\nquantile_0.025          1620\nquantile_0.975          1620\ndtype: int64"
     },
     "metadata": {},
     "execution_count": 28
    }
   ],
   "source": [
    "# Drop rows with missing data\n",
    "forecast_states = forecast_states.dropna()\n",
    "forecast_states.count()"
   ]
  },
  {
   "cell_type": "code",
   "execution_count": 30,
   "metadata": {},
   "outputs": [
    {
     "output_type": "execute_result",
     "data": {
      "text/plain": "                       model forecast_date                target  \\\n1   CU 40% contact reduction     4/20/2020  1 wk ahead cum death   \n2   CU 40% contact reduction     4/20/2020  1 wk ahead cum death   \n3   CU 40% contact reduction     4/20/2020  1 wk ahead cum death   \n4   CU 40% contact reduction     4/20/2020  1 wk ahead cum death   \n5   CU 40% contact reduction     4/20/2020  1 wk ahead cum death   \n6   CU 40% contact reduction     4/20/2020  1 wk ahead cum death   \n7   CU 40% contact reduction     4/20/2020  1 wk ahead cum death   \n8   CU 40% contact reduction     4/20/2020  1 wk ahead cum death   \n9   CU 40% contact reduction     4/20/2020  1 wk ahead cum death   \n10  CU 40% contact reduction     4/20/2020  1 wk ahead cum death   \n\n   target_end_date        state  actual  quantile_0.025  quantile_0.975  \n1        4/25/2020      Alabama     184           157.0           226.0  \n2        4/25/2020       Alaska      15            15.0            18.0  \n3        4/25/2020      Arizona     265           222.0           325.0  \n4        4/25/2020     Arkansas      50            42.0            62.0  \n5        4/25/2020   California    2012          1792.0          2520.0  \n6        4/25/2020     Colorado     585           525.0           650.0  \n7        4/25/2020  Connecticut    2153          1748.0          2483.0  \n8        4/25/2020     Delaware     232           175.0           306.0  \n9        4/25/2020      Florida    1419          1162.0          1715.0  \n10       4/25/2020      Georgia     927           843.0          1026.0  ",
      "text/html": "<div>\n<style scoped>\n    .dataframe tbody tr th:only-of-type {\n        vertical-align: middle;\n    }\n\n    .dataframe tbody tr th {\n        vertical-align: top;\n    }\n\n    .dataframe thead th {\n        text-align: right;\n    }\n</style>\n<table border=\"1\" class=\"dataframe\">\n  <thead>\n    <tr style=\"text-align: right;\">\n      <th></th>\n      <th>model</th>\n      <th>forecast_date</th>\n      <th>target</th>\n      <th>target_end_date</th>\n      <th>state</th>\n      <th>actual</th>\n      <th>quantile_0.025</th>\n      <th>quantile_0.975</th>\n    </tr>\n  </thead>\n  <tbody>\n    <tr>\n      <th>1</th>\n      <td>CU 40% contact reduction</td>\n      <td>4/20/2020</td>\n      <td>1 wk ahead cum death</td>\n      <td>4/25/2020</td>\n      <td>Alabama</td>\n      <td>184</td>\n      <td>157.0</td>\n      <td>226.0</td>\n    </tr>\n    <tr>\n      <th>2</th>\n      <td>CU 40% contact reduction</td>\n      <td>4/20/2020</td>\n      <td>1 wk ahead cum death</td>\n      <td>4/25/2020</td>\n      <td>Alaska</td>\n      <td>15</td>\n      <td>15.0</td>\n      <td>18.0</td>\n    </tr>\n    <tr>\n      <th>3</th>\n      <td>CU 40% contact reduction</td>\n      <td>4/20/2020</td>\n      <td>1 wk ahead cum death</td>\n      <td>4/25/2020</td>\n      <td>Arizona</td>\n      <td>265</td>\n      <td>222.0</td>\n      <td>325.0</td>\n    </tr>\n    <tr>\n      <th>4</th>\n      <td>CU 40% contact reduction</td>\n      <td>4/20/2020</td>\n      <td>1 wk ahead cum death</td>\n      <td>4/25/2020</td>\n      <td>Arkansas</td>\n      <td>50</td>\n      <td>42.0</td>\n      <td>62.0</td>\n    </tr>\n    <tr>\n      <th>5</th>\n      <td>CU 40% contact reduction</td>\n      <td>4/20/2020</td>\n      <td>1 wk ahead cum death</td>\n      <td>4/25/2020</td>\n      <td>California</td>\n      <td>2012</td>\n      <td>1792.0</td>\n      <td>2520.0</td>\n    </tr>\n    <tr>\n      <th>6</th>\n      <td>CU 40% contact reduction</td>\n      <td>4/20/2020</td>\n      <td>1 wk ahead cum death</td>\n      <td>4/25/2020</td>\n      <td>Colorado</td>\n      <td>585</td>\n      <td>525.0</td>\n      <td>650.0</td>\n    </tr>\n    <tr>\n      <th>7</th>\n      <td>CU 40% contact reduction</td>\n      <td>4/20/2020</td>\n      <td>1 wk ahead cum death</td>\n      <td>4/25/2020</td>\n      <td>Connecticut</td>\n      <td>2153</td>\n      <td>1748.0</td>\n      <td>2483.0</td>\n    </tr>\n    <tr>\n      <th>8</th>\n      <td>CU 40% contact reduction</td>\n      <td>4/20/2020</td>\n      <td>1 wk ahead cum death</td>\n      <td>4/25/2020</td>\n      <td>Delaware</td>\n      <td>232</td>\n      <td>175.0</td>\n      <td>306.0</td>\n    </tr>\n    <tr>\n      <th>9</th>\n      <td>CU 40% contact reduction</td>\n      <td>4/20/2020</td>\n      <td>1 wk ahead cum death</td>\n      <td>4/25/2020</td>\n      <td>Florida</td>\n      <td>1419</td>\n      <td>1162.0</td>\n      <td>1715.0</td>\n    </tr>\n    <tr>\n      <th>10</th>\n      <td>CU 40% contact reduction</td>\n      <td>4/20/2020</td>\n      <td>1 wk ahead cum death</td>\n      <td>4/25/2020</td>\n      <td>Georgia</td>\n      <td>927</td>\n      <td>843.0</td>\n      <td>1026.0</td>\n    </tr>\n  </tbody>\n</table>\n</div>"
     },
     "metadata": {},
     "execution_count": 30
    }
   ],
   "source": [
    "# Rename columns (target week end date to target end date, location name to state, point to actual)\n",
    "forecast_renamed = forecast_states.rename(columns={\"target_week_end_date\":\"target_end_date\", \"location_name\":\"state\", \"point\":\"actual\"})\n",
    "forecast_renamed.head(10)"
   ]
  },
  {
   "cell_type": "code",
   "execution_count": 31,
   "metadata": {},
   "outputs": [
    {
     "output_type": "execute_result",
     "data": {
      "text/plain": "model               object\nforecast_date       object\ntarget              object\ntarget_end_date     object\nstate               object\nactual               int64\nquantile_0.025     float64\nquantile_0.975     float64\ndtype: object"
     },
     "metadata": {},
     "execution_count": 31
    }
   ],
   "source": [
    "# Check if date column types are datetime or string \n",
    "forecast_renamed.dtypes"
   ]
  },
  {
   "cell_type": "code",
   "execution_count": 32,
   "metadata": {},
   "outputs": [
    {
     "output_type": "execute_result",
     "data": {
      "text/plain": "     model forecast_date                target target_end_date          state  \\\n1640   YYG    2020-04-20  4 wk ahead cum death      2020-05-16  West Virginia   \n1641   YYG    2020-04-20  1 wk ahead cum death      2020-04-25        Wyoming   \n1642   YYG    2020-04-20  2 wk ahead cum death      2020-05-02        Wyoming   \n1643   YYG    2020-04-20  3 wk ahead cum death      2020-05-09        Wyoming   \n1644   YYG    2020-04-20  4 wk ahead cum death      2020-05-16        Wyoming   \n\n      actual  quantile_0.025  quantile_0.975  \n1640      75            54.0           110.0  \n1641       4             4.0             4.0  \n1642       8             7.0             9.0  \n1643      11            10.0            14.0  \n1644      15            13.0            19.0  ",
      "text/html": "<div>\n<style scoped>\n    .dataframe tbody tr th:only-of-type {\n        vertical-align: middle;\n    }\n\n    .dataframe tbody tr th {\n        vertical-align: top;\n    }\n\n    .dataframe thead th {\n        text-align: right;\n    }\n</style>\n<table border=\"1\" class=\"dataframe\">\n  <thead>\n    <tr style=\"text-align: right;\">\n      <th></th>\n      <th>model</th>\n      <th>forecast_date</th>\n      <th>target</th>\n      <th>target_end_date</th>\n      <th>state</th>\n      <th>actual</th>\n      <th>quantile_0.025</th>\n      <th>quantile_0.975</th>\n    </tr>\n  </thead>\n  <tbody>\n    <tr>\n      <th>1640</th>\n      <td>YYG</td>\n      <td>2020-04-20</td>\n      <td>4 wk ahead cum death</td>\n      <td>2020-05-16</td>\n      <td>West Virginia</td>\n      <td>75</td>\n      <td>54.0</td>\n      <td>110.0</td>\n    </tr>\n    <tr>\n      <th>1641</th>\n      <td>YYG</td>\n      <td>2020-04-20</td>\n      <td>1 wk ahead cum death</td>\n      <td>2020-04-25</td>\n      <td>Wyoming</td>\n      <td>4</td>\n      <td>4.0</td>\n      <td>4.0</td>\n    </tr>\n    <tr>\n      <th>1642</th>\n      <td>YYG</td>\n      <td>2020-04-20</td>\n      <td>2 wk ahead cum death</td>\n      <td>2020-05-02</td>\n      <td>Wyoming</td>\n      <td>8</td>\n      <td>7.0</td>\n      <td>9.0</td>\n    </tr>\n    <tr>\n      <th>1643</th>\n      <td>YYG</td>\n      <td>2020-04-20</td>\n      <td>3 wk ahead cum death</td>\n      <td>2020-05-09</td>\n      <td>Wyoming</td>\n      <td>11</td>\n      <td>10.0</td>\n      <td>14.0</td>\n    </tr>\n    <tr>\n      <th>1644</th>\n      <td>YYG</td>\n      <td>2020-04-20</td>\n      <td>4 wk ahead cum death</td>\n      <td>2020-05-16</td>\n      <td>Wyoming</td>\n      <td>15</td>\n      <td>13.0</td>\n      <td>19.0</td>\n    </tr>\n  </tbody>\n</table>\n</div>"
     },
     "metadata": {},
     "execution_count": 32
    }
   ],
   "source": [
    "# Change dates from strings to datetime objects\n",
    "forecast_renamed['forecast_date'] = pd.to_datetime(forecast_renamed['forecast_date'],format='%m/%d/%Y')\n",
    "forecast_renamed['target_end_date'] = pd.to_datetime(forecast_renamed['target_end_date'],format='%m/%d/%Y')\n",
    "forecast_renamed.tail()"
   ]
  },
  {
   "cell_type": "code",
   "execution_count": 33,
   "metadata": {},
   "outputs": [
    {
     "output_type": "execute_result",
     "data": {
      "text/plain": "model                      object\nforecast_date      datetime64[ns]\ntarget                     object\ntarget_end_date    datetime64[ns]\nstate                      object\nactual                      int64\nquantile_0.025            float64\nquantile_0.975            float64\ndtype: object"
     },
     "metadata": {},
     "execution_count": 33
    }
   ],
   "source": [
    "# Verify columns changed to datetime\n",
    "forecast_renamed.dtypes"
   ]
  },
  {
   "cell_type": "code",
   "execution_count": 34,
   "metadata": {},
   "outputs": [
    {
     "output_type": "execute_result",
     "data": {
      "text/plain": "     model forecast_date                target target_end_date          state  \\\n1615   YYG    2020-04-20  4 wk ahead cum death      2020-05-16  West Virginia   \n1616   YYG    2020-04-20  1 wk ahead cum death      2020-04-25        Wyoming   \n1617   YYG    2020-04-20  2 wk ahead cum death      2020-05-02        Wyoming   \n1618   YYG    2020-04-20  3 wk ahead cum death      2020-05-09        Wyoming   \n1619   YYG    2020-04-20  4 wk ahead cum death      2020-05-16        Wyoming   \n\n      actual  quantile_0.025  quantile_0.975  \n1615      75            54.0           110.0  \n1616       4             4.0             4.0  \n1617       8             7.0             9.0  \n1618      11            10.0            14.0  \n1619      15            13.0            19.0  ",
      "text/html": "<div>\n<style scoped>\n    .dataframe tbody tr th:only-of-type {\n        vertical-align: middle;\n    }\n\n    .dataframe tbody tr th {\n        vertical-align: top;\n    }\n\n    .dataframe thead th {\n        text-align: right;\n    }\n</style>\n<table border=\"1\" class=\"dataframe\">\n  <thead>\n    <tr style=\"text-align: right;\">\n      <th></th>\n      <th>model</th>\n      <th>forecast_date</th>\n      <th>target</th>\n      <th>target_end_date</th>\n      <th>state</th>\n      <th>actual</th>\n      <th>quantile_0.025</th>\n      <th>quantile_0.975</th>\n    </tr>\n  </thead>\n  <tbody>\n    <tr>\n      <th>1615</th>\n      <td>YYG</td>\n      <td>2020-04-20</td>\n      <td>4 wk ahead cum death</td>\n      <td>2020-05-16</td>\n      <td>West Virginia</td>\n      <td>75</td>\n      <td>54.0</td>\n      <td>110.0</td>\n    </tr>\n    <tr>\n      <th>1616</th>\n      <td>YYG</td>\n      <td>2020-04-20</td>\n      <td>1 wk ahead cum death</td>\n      <td>2020-04-25</td>\n      <td>Wyoming</td>\n      <td>4</td>\n      <td>4.0</td>\n      <td>4.0</td>\n    </tr>\n    <tr>\n      <th>1617</th>\n      <td>YYG</td>\n      <td>2020-04-20</td>\n      <td>2 wk ahead cum death</td>\n      <td>2020-05-02</td>\n      <td>Wyoming</td>\n      <td>8</td>\n      <td>7.0</td>\n      <td>9.0</td>\n    </tr>\n    <tr>\n      <th>1618</th>\n      <td>YYG</td>\n      <td>2020-04-20</td>\n      <td>3 wk ahead cum death</td>\n      <td>2020-05-09</td>\n      <td>Wyoming</td>\n      <td>11</td>\n      <td>10.0</td>\n      <td>14.0</td>\n    </tr>\n    <tr>\n      <th>1619</th>\n      <td>YYG</td>\n      <td>2020-04-20</td>\n      <td>4 wk ahead cum death</td>\n      <td>2020-05-16</td>\n      <td>Wyoming</td>\n      <td>15</td>\n      <td>13.0</td>\n      <td>19.0</td>\n    </tr>\n  </tbody>\n</table>\n</div>"
     },
     "metadata": {},
     "execution_count": 34
    }
   ],
   "source": [
    "# Reset index to use as primary key for county table\n",
    "forecast_final = forecast_renamed.reset_index(drop=True)\n",
    "forecast_final.tail()"
   ]
  },
  {
   "cell_type": "code",
   "execution_count": 35,
   "metadata": {},
   "outputs": [],
   "source": [
    "# Export forecast df as a csv so it can be imported to postgres\n",
    "forecast_final.to_csv(\"forecast_cdc.csv\", encoding=\"utf-8\", index=True)"
   ]
  },
  {
   "cell_type": "code",
   "execution_count": null,
   "metadata": {},
   "outputs": [],
   "source": []
  }
 ],
 "metadata": {
  "language_info": {
   "name": "python",
   "codemirror_mode": {
    "name": "ipython",
    "version": 3
   },
   "version": "3.6.10-final"
  },
  "orig_nbformat": 2,
  "file_extension": ".py",
  "mimetype": "text/x-python",
  "name": "python",
  "npconvert_exporter": "python",
  "pygments_lexer": "ipython3",
  "version": 3,
  "kernelspec": {
   "name": "python37664bitpythondataconda7b76faf93e6a485bb209245349a7d6ad",
   "display_name": "Python 3.7.6 64-bit ('PythonData': conda)"
  }
 },
 "nbformat": 4,
 "nbformat_minor": 2
}